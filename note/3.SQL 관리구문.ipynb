{
 "cells": [
  {
   "cell_type": "code",
   "execution_count": 1,
   "id": "5aa984b1-d590-4339-86c2-d30d4b0e0c5e",
   "metadata": {},
   "outputs": [],
   "source": [
    "import os\n",
    "import pandas as pd\n",
    "import sqlalchemy\n",
    "from sqlalchemy import create_engine, text\n",
    "import cx_Oracle\n",
    "from IPython.core.magic import register_cell_magic\n",
    "import sys\n",
    "if sys.version.find('GCC') >= 0:\n",
    "    domain_name = 'oracle-db'\n",
    "else:\n",
    "    domain_name = 'localhost'\n",
    "    cx_Oracle.init_oracle_client(lib_dir = r\"C:\\Oracle\\instantclient_23_7\")\n",
    "DATABASE_URL = \"oracle+cx_oracle://lib:multisqld@{}:1521/?service_name=XEPDB1\".format(domain_name)\n",
    "engine = create_engine(DATABASE_URL)\n",
    "def get_rows(qry):\n",
    "    try:\n",
    "        with engine.connect() as conn:\n",
    "            result = conn.execute(text(qry))\n",
    "            df = pd.DataFrame(result.fetchall(), columns = result.keys()).fillna('NULL').pipe(lambda x: x.set_index(x.index + 1))\n",
    "            return df if len(df) != 1 else df.iloc[0]\n",
    "    except sqlalchemy.exc.DatabaseError as e:\n",
    "        orig = e.orig\n",
    "        offset = getattr(orig, 'offset', None)\n",
    "        message = getattr(orig, 'message', str(orig))\n",
    "        print(message, offset)\n",
    "    except Exception as e:\n",
    "        print(e.__class__)\n",
    "        print(e)\n",
    "\n",
    "def exec_qrys(qrys):\n",
    "    try:\n",
    "        results = list()\n",
    "        with engine.connect() as conn:\n",
    "            for qry in qrys.split(';'):\n",
    "                qry = qry.strip()\n",
    "                if len(qry) == 0:\n",
    "                    continue\n",
    "                result = conn.execute(text(qry))\n",
    "                results.append(\n",
    "                    \"{}, 변경된 행의 수: {}\".format(qry, result.rowcount)\n",
    "                )\n",
    "        return results\n",
    "    except Exception as e:\n",
    "        print(e)\n",
    "\n",
    "def exec_qry(qry):\n",
    "    try:\n",
    "        with engine.connect() as conn:\n",
    "            result = conn.execute(text(qry))\n",
    "            conn.commit()\n",
    "            return \"변경된 행의 수: {}\".format(result.rowcount)\n",
    "    except Exception as e:\n",
    "        print(e)\n",
    "\n",
    "@register_cell_magic\n",
    "def SQL(line, cell):\n",
    "    spt = [i for i in cell.split(';') if len(i.strip()) > 0]\n",
    "    if len(spt) > 1:\n",
    "        return exec_qrys(cell)\n",
    "    sql = cell.strip().replace(';', '')\n",
    "    if sql.lower().startswith('select'):\n",
    "        return get_rows(sql)\n",
    "    else:\n",
    "        return exec_qry(sql)"
   ]
  },
  {
   "cell_type": "markdown",
   "id": "72a12bb7-dbb4-4add-9013-22a35c426d4e",
   "metadata": {},
   "source": [
    "# DML(Data Manipulation Language)\n",
    "\n",
    "|명령|용법|\n",
    "|----|----|\n",
    "|INSERT|INSERT INTO 테이블명 [(컬럼1, 컬럼2, … )] <br/> {VALUES (값1, 값2, …)| 서브쿼리};|\n",
    "|UPDATE|UPDATE 테이블 명 SET<br/>수정할 컬럼1 = 표현1<br/>[, 수정할 컬럼2 = 표현2] …<br/>[WHERE 절]|\n",
    "|DELETE|DELETE [FROM] 테이블명 [WHERE 절]|\n",
    "|MERGE|MERGE INTO 타겟 테이블명<br/>USING 소스 테이블명 ON (일치 판별식)<br/>WHEN MATCHED THEN<br/>UPDATE SET<br/>수정할 컬럼1 = 표현1<br/>[, 수정할 컬럼2 = 표현2] …<br/>WHEN NOT MATCHED THEN<br/>INSERT [(컬럼1, 컬럼2, …)]<br/>VALUES (값1, 값2, …)}|"
   ]
  },
  {
   "cell_type": "markdown",
   "id": "3aa76d2a-24d6-400a-a854-a728d97ca606",
   "metadata": {},
   "source": [
    "**[예제1]** DML 연습을 해봅니다."
   ]
  },
  {
   "cell_type": "markdown",
   "id": "eeafd6b4-d45d-4d90-a651-780eb4c5081a",
   "metadata": {},
   "source": [
    "- 연습용 테이블 추가 명령 입니다."
   ]
  },
  {
   "cell_type": "code",
   "execution_count": 2,
   "id": "bc5e9258-dc2b-4836-b5e6-8cd885ac578b",
   "metadata": {},
   "outputs": [
    {
     "data": {
      "text/plain": [
       "'변경된 행의 수: 0'"
      ]
     },
     "execution_count": 2,
     "metadata": {},
     "output_type": "execute_result"
    }
   ],
   "source": [
    "exec_qry(\"\"\"\n",
    "CREATE TABLE book_info (\n",
    "    book_id NUMBER(12),\n",
    "    title VARCHAR2(200),\n",
    "    publisher VARCHAR2(100),\n",
    "    reg_date DATE,\n",
    "    CONSTRAINT PK_book_info PRIMARY KEY (book_id)\n",
    ")\"\"\"\n",
    ")"
   ]
  },
  {
   "cell_type": "code",
   "execution_count": 3,
   "id": "441721d9-7865-4848-b63f-26d198497ce1",
   "metadata": {},
   "outputs": [
    {
     "data": {
      "text/html": [
       "<div>\n",
       "<style scoped>\n",
       "    .dataframe tbody tr th:only-of-type {\n",
       "        vertical-align: middle;\n",
       "    }\n",
       "\n",
       "    .dataframe tbody tr th {\n",
       "        vertical-align: top;\n",
       "    }\n",
       "\n",
       "    .dataframe thead th {\n",
       "        text-align: right;\n",
       "    }\n",
       "</style>\n",
       "<table border=\"1\" class=\"dataframe\">\n",
       "  <thead>\n",
       "    <tr style=\"text-align: right;\">\n",
       "      <th></th>\n",
       "      <th>book_id</th>\n",
       "      <th>title</th>\n",
       "      <th>publisher</th>\n",
       "      <th>reg_date</th>\n",
       "    </tr>\n",
       "  </thead>\n",
       "  <tbody>\n",
       "  </tbody>\n",
       "</table>\n",
       "</div>"
      ],
      "text/plain": [
       "Empty DataFrame\n",
       "Columns: [book_id, title, publisher, reg_date]\n",
       "Index: []"
      ]
     },
     "execution_count": 3,
     "metadata": {},
     "output_type": "execute_result"
    }
   ],
   "source": [
    "%%SQL\n",
    "\n",
    "SELECT * FROM book_info"
   ]
  },
  {
   "cell_type": "markdown",
   "id": "01f2a99f-dc5f-4829-8a18-ddf240484698",
   "metadata": {},
   "source": [
    "- INSERT를 통해 레코드를 하나 추가합니다.\n",
    "\n",
    "  INSERT INTO 테이블명(컬럼명|[컬럼명2], ...) VALUES (....)"
   ]
  },
  {
   "cell_type": "code",
   "execution_count": 4,
   "id": "76a4c4d1-866b-42f3-b0e3-db3d0ed76e7a",
   "metadata": {},
   "outputs": [
    {
     "data": {
      "text/plain": [
       "'변경된 행의 수: 1'"
      ]
     },
     "execution_count": 4,
     "metadata": {},
     "output_type": "execute_result"
    }
   ],
   "source": [
    "%%SQL\n",
    "\n",
    "INSERT INTO book_info(book_id, title, publisher, reg_date)\n",
    "VALUES (1, '해리포터', '외국출판사', to_date('2025-05-07', 'yyyy-mm-dd'))"
   ]
  },
  {
   "cell_type": "code",
   "execution_count": 5,
   "id": "9853a484-ebe6-486e-b143-5d629d12baf8",
   "metadata": {},
   "outputs": [
    {
     "data": {
      "text/plain": [
       "book_id                        1\n",
       "title                       해리포터\n",
       "publisher                  외국출판사\n",
       "reg_date     2025-05-07 00:00:00\n",
       "Name: 1, dtype: object"
      ]
     },
     "execution_count": 5,
     "metadata": {},
     "output_type": "execute_result"
    }
   ],
   "source": [
    "%%SQL\n",
    "\n",
    "SELECT * FROM book_info"
   ]
  },
  {
   "cell_type": "markdown",
   "id": "c3eb6384-0a95-4645-ad7e-9fe697d5f869",
   "metadata": {},
   "source": [
    "- 하나 더 추가합니다."
   ]
  },
  {
   "cell_type": "code",
   "execution_count": 6,
   "id": "9d558aa0-c81e-4b6b-96b2-601507af2760",
   "metadata": {},
   "outputs": [
    {
     "name": "stdout",
     "output_type": "stream",
     "text": [
      "(cx_Oracle.IntegrityError) ORA-00001: unique constraint (LIB.PK_BOOK_INFO) violated\n",
      "[SQL: INSERT INTO book_info\n",
      "VALUES (1, '반지의 제왕', '보석출판사', to_date('2025_06-01', 'yyyy-mm-dd'))]\n",
      "(Background on this error at: https://sqlalche.me/e/20/gkpj)\n"
     ]
    }
   ],
   "source": [
    "%%SQL\n",
    "\n",
    "INSERT INTO book_info\n",
    "VALUES (1, '반지의 제왕', '보석출판사', to_date('2025_06-01', 'yyyy-mm-dd'))"
   ]
  },
  {
   "cell_type": "markdown",
   "id": "a1fdb328-8062-4076-8d36-722f9613df6e",
   "metadata": {},
   "source": [
    "인덱스가 중복하기 때문에 추가가 되지 않았습니다."
   ]
  },
  {
   "cell_type": "markdown",
   "id": "0633002d-3995-400e-9ea8-2e062bb2a05c",
   "metadata": {},
   "source": [
    "- 컬럼을 지정하지 않으면 등록된 컬럼 순에 맞춰 입력이 됩니다. 이렇게 쓰면 부작용이 있어 쓰지 않습니다.  개념과 외부 스키마 간에 독립성이 생깁니다."
   ]
  },
  {
   "cell_type": "code",
   "execution_count": 7,
   "id": "da401a95-8dec-4dc0-8ce5-b2deae747ae3",
   "metadata": {},
   "outputs": [
    {
     "data": {
      "text/plain": [
       "'변경된 행의 수: 1'"
      ]
     },
     "execution_count": 7,
     "metadata": {},
     "output_type": "execute_result"
    }
   ],
   "source": [
    "%%SQL\n",
    "\n",
    "INSERT INTO book_info\n",
    "VALUES (2, '반지의 제왕', '보석출판사', to_date('2025_06-01', 'yyyy-mm-dd'))"
   ]
  },
  {
   "cell_type": "code",
   "execution_count": 8,
   "id": "683fda67-518a-474a-a1bb-962d5d21a3f5",
   "metadata": {},
   "outputs": [
    {
     "data": {
      "text/html": [
       "<div>\n",
       "<style scoped>\n",
       "    .dataframe tbody tr th:only-of-type {\n",
       "        vertical-align: middle;\n",
       "    }\n",
       "\n",
       "    .dataframe tbody tr th {\n",
       "        vertical-align: top;\n",
       "    }\n",
       "\n",
       "    .dataframe thead th {\n",
       "        text-align: right;\n",
       "    }\n",
       "</style>\n",
       "<table border=\"1\" class=\"dataframe\">\n",
       "  <thead>\n",
       "    <tr style=\"text-align: right;\">\n",
       "      <th></th>\n",
       "      <th>book_id</th>\n",
       "      <th>title</th>\n",
       "      <th>publisher</th>\n",
       "      <th>reg_date</th>\n",
       "    </tr>\n",
       "  </thead>\n",
       "  <tbody>\n",
       "    <tr>\n",
       "      <th>1</th>\n",
       "      <td>1</td>\n",
       "      <td>해리포터</td>\n",
       "      <td>외국출판사</td>\n",
       "      <td>2025-05-07</td>\n",
       "    </tr>\n",
       "    <tr>\n",
       "      <th>2</th>\n",
       "      <td>2</td>\n",
       "      <td>반지의 제왕</td>\n",
       "      <td>보석출판사</td>\n",
       "      <td>2025-06-01</td>\n",
       "    </tr>\n",
       "  </tbody>\n",
       "</table>\n",
       "</div>"
      ],
      "text/plain": [
       "   book_id   title publisher   reg_date\n",
       "1        1    해리포터     외국출판사 2025-05-07\n",
       "2        2  반지의 제왕     보석출판사 2025-06-01"
      ]
     },
     "execution_count": 8,
     "metadata": {},
     "output_type": "execute_result"
    }
   ],
   "source": [
    "%%SQL\n",
    "\n",
    "SELECT * FROM book_info"
   ]
  },
  {
   "cell_type": "markdown",
   "id": "98e3213f-fe3b-4b4c-a927-39d0295d6f1d",
   "metadata": {},
   "source": [
    "- UPDATE 를 합니다. WHERE 조건에 해당하는 행들을 바꿉니다."
   ]
  },
  {
   "cell_type": "code",
   "execution_count": 9,
   "id": "1ae33dc5-845c-4093-8df0-c5f06b49f92e",
   "metadata": {},
   "outputs": [
    {
     "data": {
      "text/plain": [
       "'변경된 행의 수: 1'"
      ]
     },
     "execution_count": 9,
     "metadata": {},
     "output_type": "execute_result"
    }
   ],
   "source": [
    "%%SQL\n",
    "\n",
    "UPDATE book_info SET publisher = '영국출판사' WHERE book_id = 1"
   ]
  },
  {
   "cell_type": "code",
   "execution_count": 10,
   "id": "b8a6e23a-b5ce-4db6-95b7-5dd01443d1fa",
   "metadata": {},
   "outputs": [
    {
     "data": {
      "text/html": [
       "<div>\n",
       "<style scoped>\n",
       "    .dataframe tbody tr th:only-of-type {\n",
       "        vertical-align: middle;\n",
       "    }\n",
       "\n",
       "    .dataframe tbody tr th {\n",
       "        vertical-align: top;\n",
       "    }\n",
       "\n",
       "    .dataframe thead th {\n",
       "        text-align: right;\n",
       "    }\n",
       "</style>\n",
       "<table border=\"1\" class=\"dataframe\">\n",
       "  <thead>\n",
       "    <tr style=\"text-align: right;\">\n",
       "      <th></th>\n",
       "      <th>book_id</th>\n",
       "      <th>title</th>\n",
       "      <th>publisher</th>\n",
       "      <th>reg_date</th>\n",
       "    </tr>\n",
       "  </thead>\n",
       "  <tbody>\n",
       "    <tr>\n",
       "      <th>1</th>\n",
       "      <td>1</td>\n",
       "      <td>해리포터</td>\n",
       "      <td>영국출판사</td>\n",
       "      <td>2025-05-07</td>\n",
       "    </tr>\n",
       "    <tr>\n",
       "      <th>2</th>\n",
       "      <td>2</td>\n",
       "      <td>반지의 제왕</td>\n",
       "      <td>보석출판사</td>\n",
       "      <td>2025-06-01</td>\n",
       "    </tr>\n",
       "  </tbody>\n",
       "</table>\n",
       "</div>"
      ],
      "text/plain": [
       "   book_id   title publisher   reg_date\n",
       "1        1    해리포터     영국출판사 2025-05-07\n",
       "2        2  반지의 제왕     보석출판사 2025-06-01"
      ]
     },
     "execution_count": 10,
     "metadata": {},
     "output_type": "execute_result"
    }
   ],
   "source": [
    "%%SQL\n",
    "\n",
    "SELECT * FROM book_info"
   ]
  },
  {
   "cell_type": "code",
   "execution_count": 11,
   "id": "c51eb398-5d77-4001-b365-454dc6395ec5",
   "metadata": {},
   "outputs": [
    {
     "data": {
      "text/plain": [
       "'변경된 행의 수: 2'"
      ]
     },
     "execution_count": 11,
     "metadata": {},
     "output_type": "execute_result"
    }
   ],
   "source": [
    "%%SQL\n",
    "\n",
    "UPDATE book_info SET reg_date = reg_date - 1"
   ]
  },
  {
   "cell_type": "code",
   "execution_count": 12,
   "id": "24f8944d-ba53-49dc-bc50-63ebc98eadfd",
   "metadata": {},
   "outputs": [
    {
     "data": {
      "text/html": [
       "<div>\n",
       "<style scoped>\n",
       "    .dataframe tbody tr th:only-of-type {\n",
       "        vertical-align: middle;\n",
       "    }\n",
       "\n",
       "    .dataframe tbody tr th {\n",
       "        vertical-align: top;\n",
       "    }\n",
       "\n",
       "    .dataframe thead th {\n",
       "        text-align: right;\n",
       "    }\n",
       "</style>\n",
       "<table border=\"1\" class=\"dataframe\">\n",
       "  <thead>\n",
       "    <tr style=\"text-align: right;\">\n",
       "      <th></th>\n",
       "      <th>book_id</th>\n",
       "      <th>title</th>\n",
       "      <th>publisher</th>\n",
       "      <th>reg_date</th>\n",
       "    </tr>\n",
       "  </thead>\n",
       "  <tbody>\n",
       "    <tr>\n",
       "      <th>1</th>\n",
       "      <td>1</td>\n",
       "      <td>해리포터</td>\n",
       "      <td>영국출판사</td>\n",
       "      <td>2025-05-06</td>\n",
       "    </tr>\n",
       "    <tr>\n",
       "      <th>2</th>\n",
       "      <td>2</td>\n",
       "      <td>반지의 제왕</td>\n",
       "      <td>보석출판사</td>\n",
       "      <td>2025-05-31</td>\n",
       "    </tr>\n",
       "  </tbody>\n",
       "</table>\n",
       "</div>"
      ],
      "text/plain": [
       "   book_id   title publisher   reg_date\n",
       "1        1    해리포터     영국출판사 2025-05-06\n",
       "2        2  반지의 제왕     보석출판사 2025-05-31"
      ]
     },
     "execution_count": 12,
     "metadata": {},
     "output_type": "execute_result"
    }
   ],
   "source": [
    "%%SQL\n",
    "\n",
    "SELECT * FROM book_info"
   ]
  },
  {
   "cell_type": "markdown",
   "id": "7c2c8a1d-b5a7-42ea-a3b4-e79da3be01f3",
   "metadata": {},
   "source": [
    "- DELETE FROM 테이블에서 조건해당하는 행을 삭제합니다.\n"
   ]
  },
  {
   "cell_type": "code",
   "execution_count": 13,
   "id": "963783e1-d4df-4752-8a7f-8986c70c0679",
   "metadata": {},
   "outputs": [
    {
     "data": {
      "text/plain": [
       "'변경된 행의 수: 1'"
      ]
     },
     "execution_count": 13,
     "metadata": {},
     "output_type": "execute_result"
    }
   ],
   "source": [
    "%%SQL\n",
    "\n",
    "DELETE FROM book_info WHERE book_id = (SELECT max(book_id) FROM book_info)"
   ]
  },
  {
   "cell_type": "code",
   "execution_count": 14,
   "id": "0deb8a65-b2ba-49ee-a37a-29ce3848facf",
   "metadata": {},
   "outputs": [
    {
     "data": {
      "text/plain": [
       "book_id                        1\n",
       "title                       해리포터\n",
       "publisher                  영국출판사\n",
       "reg_date     2025-05-06 00:00:00\n",
       "Name: 1, dtype: object"
      ]
     },
     "execution_count": 14,
     "metadata": {},
     "output_type": "execute_result"
    }
   ],
   "source": [
    "%%SQL\n",
    "\n",
    "SELECT * FROM book_info"
   ]
  },
  {
   "cell_type": "code",
   "execution_count": 15,
   "id": "0e8cda89-8835-4adc-8ca2-41f9cbc03e50",
   "metadata": {},
   "outputs": [
    {
     "data": {
      "text/html": [
       "<div>\n",
       "<style scoped>\n",
       "    .dataframe tbody tr th:only-of-type {\n",
       "        vertical-align: middle;\n",
       "    }\n",
       "\n",
       "    .dataframe tbody tr th {\n",
       "        vertical-align: top;\n",
       "    }\n",
       "\n",
       "    .dataframe thead th {\n",
       "        text-align: right;\n",
       "    }\n",
       "</style>\n",
       "<table border=\"1\" class=\"dataframe\">\n",
       "  <thead>\n",
       "    <tr style=\"text-align: right;\">\n",
       "      <th></th>\n",
       "      <th>book_id</th>\n",
       "      <th>book_title</th>\n",
       "      <th>book_categ_id</th>\n",
       "      <th>publisher</th>\n",
       "      <th>pub_date</th>\n",
       "    </tr>\n",
       "  </thead>\n",
       "  <tbody>\n",
       "    <tr>\n",
       "      <th>1</th>\n",
       "      <td>2219</td>\n",
       "      <td>사피엔스</td>\n",
       "      <td>1062</td>\n",
       "      <td>김영사</td>\n",
       "      <td>2015-11-01</td>\n",
       "    </tr>\n",
       "    <tr>\n",
       "      <th>2</th>\n",
       "      <td>1097</td>\n",
       "      <td>문학이란 무엇인가</td>\n",
       "      <td>509</td>\n",
       "      <td>민음사</td>\n",
       "      <td>1998-09-01</td>\n",
       "    </tr>\n",
       "    <tr>\n",
       "      <th>3</th>\n",
       "      <td>1061</td>\n",
       "      <td>양철북 2</td>\n",
       "      <td>489</td>\n",
       "      <td>민음사</td>\n",
       "      <td>2000-03-01</td>\n",
       "    </tr>\n",
       "    <tr>\n",
       "      <th>4</th>\n",
       "      <td>3270</td>\n",
       "      <td>뿌리깊은 초등국어 독해력 어휘편 3단계 (초등3,4학년)</td>\n",
       "      <td>1550</td>\n",
       "      <td>마더텅</td>\n",
       "      <td>2019-12-01</td>\n",
       "    </tr>\n",
       "    <tr>\n",
       "      <th>5</th>\n",
       "      <td>3233</td>\n",
       "      <td>뿌리깊은 초등국어 독해력 1단계 (초등1,2학년)</td>\n",
       "      <td>1535</td>\n",
       "      <td>마더텅</td>\n",
       "      <td>2018-03-01</td>\n",
       "    </tr>\n",
       "    <tr>\n",
       "      <th>6</th>\n",
       "      <td>2497</td>\n",
       "      <td>생명이란 무엇인가</td>\n",
       "      <td>1196</td>\n",
       "      <td>까치(까치글방)</td>\n",
       "      <td>2021-01-01</td>\n",
       "    </tr>\n",
       "    <tr>\n",
       "      <th>7</th>\n",
       "      <td>1137</td>\n",
       "      <td>잃어버린 아이 이야기</td>\n",
       "      <td>534</td>\n",
       "      <td>한길사</td>\n",
       "      <td>2017-12-01</td>\n",
       "    </tr>\n",
       "    <tr>\n",
       "      <th>8</th>\n",
       "      <td>1059</td>\n",
       "      <td>데미안</td>\n",
       "      <td>489</td>\n",
       "      <td>민음사</td>\n",
       "      <td>2000-12-01</td>\n",
       "    </tr>\n",
       "    <tr>\n",
       "      <th>9</th>\n",
       "      <td>3345</td>\n",
       "      <td>초등영어 받아쓰기·듣기 10회 모의고사 초등 6학년 1</td>\n",
       "      <td>1568</td>\n",
       "      <td>마더텅</td>\n",
       "      <td>2019-04-01</td>\n",
       "    </tr>\n",
       "    <tr>\n",
       "      <th>10</th>\n",
       "      <td>1092</td>\n",
       "      <td>동주와 빈센트</td>\n",
       "      <td>503</td>\n",
       "      <td>저녁달고양이</td>\n",
       "      <td>2019-09-01</td>\n",
       "    </tr>\n",
       "  </tbody>\n",
       "</table>\n",
       "</div>"
      ],
      "text/plain": [
       "    book_id                       book_title  book_categ_id publisher  \\\n",
       "1      2219                             사피엔스           1062       김영사   \n",
       "2      1097                        문학이란 무엇인가            509       민음사   \n",
       "3      1061                            양철북 2            489       민음사   \n",
       "4      3270  뿌리깊은 초등국어 독해력 어휘편 3단계 (초등3,4학년)           1550       마더텅   \n",
       "5      3233      뿌리깊은 초등국어 독해력 1단계 (초등1,2학년)           1535       마더텅   \n",
       "6      2497                        생명이란 무엇인가           1196  까치(까치글방)   \n",
       "7      1137                      잃어버린 아이 이야기            534       한길사   \n",
       "8      1059                              데미안            489       민음사   \n",
       "9      3345   초등영어 받아쓰기·듣기 10회 모의고사 초등 6학년 1           1568       마더텅   \n",
       "10     1092                          동주와 빈센트            503    저녁달고양이   \n",
       "\n",
       "     pub_date  \n",
       "1  2015-11-01  \n",
       "2  1998-09-01  \n",
       "3  2000-03-01  \n",
       "4  2019-12-01  \n",
       "5  2018-03-01  \n",
       "6  2021-01-01  \n",
       "7  2017-12-01  \n",
       "8  2000-12-01  \n",
       "9  2019-04-01  \n",
       "10 2019-09-01  "
      ]
     },
     "execution_count": 15,
     "metadata": {},
     "output_type": "execute_result"
    }
   ],
   "source": [
    "%%SQL\n",
    "\n",
    "SELECT * FROM book1"
   ]
  },
  {
   "cell_type": "code",
   "execution_count": 16,
   "id": "f68f8ea8-fbea-46b6-984e-4022626e3301",
   "metadata": {},
   "outputs": [
    {
     "data": {
      "text/html": [
       "<div>\n",
       "<style scoped>\n",
       "    .dataframe tbody tr th:only-of-type {\n",
       "        vertical-align: middle;\n",
       "    }\n",
       "\n",
       "    .dataframe tbody tr th {\n",
       "        vertical-align: top;\n",
       "    }\n",
       "\n",
       "    .dataframe thead th {\n",
       "        text-align: right;\n",
       "    }\n",
       "</style>\n",
       "<table border=\"1\" class=\"dataframe\">\n",
       "  <thead>\n",
       "    <tr style=\"text-align: right;\">\n",
       "      <th></th>\n",
       "      <th>book_id</th>\n",
       "      <th>book_title</th>\n",
       "      <th>publisher</th>\n",
       "      <th>sysdate</th>\n",
       "    </tr>\n",
       "  </thead>\n",
       "  <tbody>\n",
       "    <tr>\n",
       "      <th>1</th>\n",
       "      <td>2219</td>\n",
       "      <td>사피엔스</td>\n",
       "      <td>김영사</td>\n",
       "      <td>2025-08-10 09:41:03</td>\n",
       "    </tr>\n",
       "    <tr>\n",
       "      <th>2</th>\n",
       "      <td>1097</td>\n",
       "      <td>문학이란 무엇인가</td>\n",
       "      <td>민음사</td>\n",
       "      <td>2025-08-10 09:41:03</td>\n",
       "    </tr>\n",
       "    <tr>\n",
       "      <th>3</th>\n",
       "      <td>1061</td>\n",
       "      <td>양철북 2</td>\n",
       "      <td>민음사</td>\n",
       "      <td>2025-08-10 09:41:03</td>\n",
       "    </tr>\n",
       "    <tr>\n",
       "      <th>4</th>\n",
       "      <td>1137</td>\n",
       "      <td>잃어버린 아이 이야기</td>\n",
       "      <td>한길사</td>\n",
       "      <td>2025-08-10 09:41:03</td>\n",
       "    </tr>\n",
       "    <tr>\n",
       "      <th>5</th>\n",
       "      <td>1059</td>\n",
       "      <td>데미안</td>\n",
       "      <td>민음사</td>\n",
       "      <td>2025-08-10 09:41:03</td>\n",
       "    </tr>\n",
       "  </tbody>\n",
       "</table>\n",
       "</div>"
      ],
      "text/plain": [
       "   book_id   book_title publisher             sysdate\n",
       "1     2219         사피엔스       김영사 2025-08-10 09:41:03\n",
       "2     1097    문학이란 무엇인가       민음사 2025-08-10 09:41:03\n",
       "3     1061        양철북 2       민음사 2025-08-10 09:41:03\n",
       "4     1137  잃어버린 아이 이야기       한길사 2025-08-10 09:41:03\n",
       "5     1059          데미안       민음사 2025-08-10 09:41:03"
      ]
     },
     "execution_count": 16,
     "metadata": {},
     "output_type": "execute_result"
    }
   ],
   "source": [
    "%%SQL \n",
    "\n",
    "SELECT book_id, book_title, publisher, sysdate \n",
    "FROM book1\n",
    "WHERE publisher like '%사'"
   ]
  },
  {
   "cell_type": "markdown",
   "id": "4cf136b7-1f0e-44a8-a561-10cefd5eddde",
   "metadata": {},
   "source": [
    "- SELECT 쿼리에서 반환된 행들을 입력합니다."
   ]
  },
  {
   "cell_type": "code",
   "execution_count": 17,
   "id": "62091030-de06-4215-a042-917499a250b4",
   "metadata": {},
   "outputs": [
    {
     "data": {
      "text/plain": [
       "'변경된 행의 수: 5'"
      ]
     },
     "execution_count": 17,
     "metadata": {},
     "output_type": "execute_result"
    }
   ],
   "source": [
    "%%SQL\n",
    "\n",
    "INSERT INTO book_info(book_id, title, publisher, reg_date)\n",
    "SELECT book_id, book_title, publisher, sysdate \n",
    "FROM book1\n",
    "WHERE publisher like '%사'"
   ]
  },
  {
   "cell_type": "code",
   "execution_count": 18,
   "id": "a759f864-8358-4383-9d0e-40b2a11cc0ee",
   "metadata": {},
   "outputs": [
    {
     "data": {
      "text/html": [
       "<div>\n",
       "<style scoped>\n",
       "    .dataframe tbody tr th:only-of-type {\n",
       "        vertical-align: middle;\n",
       "    }\n",
       "\n",
       "    .dataframe tbody tr th {\n",
       "        vertical-align: top;\n",
       "    }\n",
       "\n",
       "    .dataframe thead th {\n",
       "        text-align: right;\n",
       "    }\n",
       "</style>\n",
       "<table border=\"1\" class=\"dataframe\">\n",
       "  <thead>\n",
       "    <tr style=\"text-align: right;\">\n",
       "      <th></th>\n",
       "      <th>book_id</th>\n",
       "      <th>title</th>\n",
       "      <th>publisher</th>\n",
       "      <th>reg_date</th>\n",
       "    </tr>\n",
       "  </thead>\n",
       "  <tbody>\n",
       "    <tr>\n",
       "      <th>1</th>\n",
       "      <td>1</td>\n",
       "      <td>해리포터</td>\n",
       "      <td>영국출판사</td>\n",
       "      <td>2025-05-06 00:00:00</td>\n",
       "    </tr>\n",
       "    <tr>\n",
       "      <th>2</th>\n",
       "      <td>1059</td>\n",
       "      <td>데미안</td>\n",
       "      <td>민음사</td>\n",
       "      <td>2025-08-10 09:41:03</td>\n",
       "    </tr>\n",
       "    <tr>\n",
       "      <th>3</th>\n",
       "      <td>1061</td>\n",
       "      <td>양철북 2</td>\n",
       "      <td>민음사</td>\n",
       "      <td>2025-08-10 09:41:03</td>\n",
       "    </tr>\n",
       "    <tr>\n",
       "      <th>4</th>\n",
       "      <td>1097</td>\n",
       "      <td>문학이란 무엇인가</td>\n",
       "      <td>민음사</td>\n",
       "      <td>2025-08-10 09:41:03</td>\n",
       "    </tr>\n",
       "    <tr>\n",
       "      <th>5</th>\n",
       "      <td>1137</td>\n",
       "      <td>잃어버린 아이 이야기</td>\n",
       "      <td>한길사</td>\n",
       "      <td>2025-08-10 09:41:03</td>\n",
       "    </tr>\n",
       "    <tr>\n",
       "      <th>6</th>\n",
       "      <td>2219</td>\n",
       "      <td>사피엔스</td>\n",
       "      <td>김영사</td>\n",
       "      <td>2025-08-10 09:41:03</td>\n",
       "    </tr>\n",
       "  </tbody>\n",
       "</table>\n",
       "</div>"
      ],
      "text/plain": [
       "   book_id        title publisher            reg_date\n",
       "1        1         해리포터     영국출판사 2025-05-06 00:00:00\n",
       "2     1059          데미안       민음사 2025-08-10 09:41:03\n",
       "3     1061        양철북 2       민음사 2025-08-10 09:41:03\n",
       "4     1097    문학이란 무엇인가       민음사 2025-08-10 09:41:03\n",
       "5     1137  잃어버린 아이 이야기       한길사 2025-08-10 09:41:03\n",
       "6     2219         사피엔스       김영사 2025-08-10 09:41:03"
      ]
     },
     "execution_count": 18,
     "metadata": {},
     "output_type": "execute_result"
    }
   ],
   "source": [
    "%%SQL\n",
    "\n",
    "SELECT * FROM book_info"
   ]
  },
  {
   "cell_type": "code",
   "execution_count": 19,
   "id": "10f5a33a-3a0f-42df-a5df-869aab4101b8",
   "metadata": {},
   "outputs": [
    {
     "data": {
      "text/plain": [
       "'변경된 행의 수: 5'"
      ]
     },
     "execution_count": 19,
     "metadata": {},
     "output_type": "execute_result"
    }
   ],
   "source": [
    "%%SQL\n",
    "\n",
    "UPDATE book_info SET title = '', publisher = publisher || '~~~' WHERE length(publisher) = 3"
   ]
  },
  {
   "cell_type": "code",
   "execution_count": 20,
   "id": "b272e2a2-f83c-48aa-b0c7-c37e3181a056",
   "metadata": {},
   "outputs": [
    {
     "data": {
      "text/html": [
       "<div>\n",
       "<style scoped>\n",
       "    .dataframe tbody tr th:only-of-type {\n",
       "        vertical-align: middle;\n",
       "    }\n",
       "\n",
       "    .dataframe tbody tr th {\n",
       "        vertical-align: top;\n",
       "    }\n",
       "\n",
       "    .dataframe thead th {\n",
       "        text-align: right;\n",
       "    }\n",
       "</style>\n",
       "<table border=\"1\" class=\"dataframe\">\n",
       "  <thead>\n",
       "    <tr style=\"text-align: right;\">\n",
       "      <th></th>\n",
       "      <th>book_id</th>\n",
       "      <th>title</th>\n",
       "      <th>publisher</th>\n",
       "      <th>reg_date</th>\n",
       "    </tr>\n",
       "  </thead>\n",
       "  <tbody>\n",
       "    <tr>\n",
       "      <th>1</th>\n",
       "      <td>1</td>\n",
       "      <td>해리포터</td>\n",
       "      <td>영국출판사</td>\n",
       "      <td>2025-05-06 00:00:00</td>\n",
       "    </tr>\n",
       "    <tr>\n",
       "      <th>2</th>\n",
       "      <td>1059</td>\n",
       "      <td>NULL</td>\n",
       "      <td>민음사~~~</td>\n",
       "      <td>2025-08-10 09:41:03</td>\n",
       "    </tr>\n",
       "    <tr>\n",
       "      <th>3</th>\n",
       "      <td>1061</td>\n",
       "      <td>NULL</td>\n",
       "      <td>민음사~~~</td>\n",
       "      <td>2025-08-10 09:41:03</td>\n",
       "    </tr>\n",
       "    <tr>\n",
       "      <th>4</th>\n",
       "      <td>1097</td>\n",
       "      <td>NULL</td>\n",
       "      <td>민음사~~~</td>\n",
       "      <td>2025-08-10 09:41:03</td>\n",
       "    </tr>\n",
       "    <tr>\n",
       "      <th>5</th>\n",
       "      <td>1137</td>\n",
       "      <td>NULL</td>\n",
       "      <td>한길사~~~</td>\n",
       "      <td>2025-08-10 09:41:03</td>\n",
       "    </tr>\n",
       "    <tr>\n",
       "      <th>6</th>\n",
       "      <td>2219</td>\n",
       "      <td>NULL</td>\n",
       "      <td>김영사~~~</td>\n",
       "      <td>2025-08-10 09:41:03</td>\n",
       "    </tr>\n",
       "  </tbody>\n",
       "</table>\n",
       "</div>"
      ],
      "text/plain": [
       "   book_id title publisher            reg_date\n",
       "1        1  해리포터     영국출판사 2025-05-06 00:00:00\n",
       "2     1059  NULL    민음사~~~ 2025-08-10 09:41:03\n",
       "3     1061  NULL    민음사~~~ 2025-08-10 09:41:03\n",
       "4     1097  NULL    민음사~~~ 2025-08-10 09:41:03\n",
       "5     1137  NULL    한길사~~~ 2025-08-10 09:41:03\n",
       "6     2219  NULL    김영사~~~ 2025-08-10 09:41:03"
      ]
     },
     "execution_count": 20,
     "metadata": {},
     "output_type": "execute_result"
    }
   ],
   "source": [
    "%%SQL\n",
    "\n",
    "SELECT * FROM book_info"
   ]
  },
  {
   "cell_type": "code",
   "execution_count": 21,
   "id": "7a253ca9-1425-4d2d-99a8-79612cc543d8",
   "metadata": {},
   "outputs": [
    {
     "data": {
      "text/html": [
       "<div>\n",
       "<style scoped>\n",
       "    .dataframe tbody tr th:only-of-type {\n",
       "        vertical-align: middle;\n",
       "    }\n",
       "\n",
       "    .dataframe tbody tr th {\n",
       "        vertical-align: top;\n",
       "    }\n",
       "\n",
       "    .dataframe thead th {\n",
       "        text-align: right;\n",
       "    }\n",
       "</style>\n",
       "<table border=\"1\" class=\"dataframe\">\n",
       "  <thead>\n",
       "    <tr style=\"text-align: right;\">\n",
       "      <th></th>\n",
       "      <th>book_id</th>\n",
       "      <th>book_title</th>\n",
       "      <th>book_categ_id</th>\n",
       "      <th>publisher</th>\n",
       "      <th>pub_date</th>\n",
       "    </tr>\n",
       "  </thead>\n",
       "  <tbody>\n",
       "    <tr>\n",
       "      <th>1</th>\n",
       "      <td>2219</td>\n",
       "      <td>사피엔스</td>\n",
       "      <td>1062</td>\n",
       "      <td>김영사</td>\n",
       "      <td>2015-11-01</td>\n",
       "    </tr>\n",
       "    <tr>\n",
       "      <th>2</th>\n",
       "      <td>1097</td>\n",
       "      <td>문학이란 무엇인가</td>\n",
       "      <td>509</td>\n",
       "      <td>민음사</td>\n",
       "      <td>1998-09-01</td>\n",
       "    </tr>\n",
       "    <tr>\n",
       "      <th>3</th>\n",
       "      <td>1061</td>\n",
       "      <td>양철북 2</td>\n",
       "      <td>489</td>\n",
       "      <td>민음사</td>\n",
       "      <td>2000-03-01</td>\n",
       "    </tr>\n",
       "    <tr>\n",
       "      <th>4</th>\n",
       "      <td>3270</td>\n",
       "      <td>뿌리깊은 초등국어 독해력 어휘편 3단계 (초등3,4학년)</td>\n",
       "      <td>1550</td>\n",
       "      <td>마더텅</td>\n",
       "      <td>2019-12-01</td>\n",
       "    </tr>\n",
       "    <tr>\n",
       "      <th>5</th>\n",
       "      <td>3233</td>\n",
       "      <td>뿌리깊은 초등국어 독해력 1단계 (초등1,2학년)</td>\n",
       "      <td>1535</td>\n",
       "      <td>마더텅</td>\n",
       "      <td>2018-03-01</td>\n",
       "    </tr>\n",
       "    <tr>\n",
       "      <th>6</th>\n",
       "      <td>2497</td>\n",
       "      <td>생명이란 무엇인가</td>\n",
       "      <td>1196</td>\n",
       "      <td>까치(까치글방)</td>\n",
       "      <td>2021-01-01</td>\n",
       "    </tr>\n",
       "    <tr>\n",
       "      <th>7</th>\n",
       "      <td>1137</td>\n",
       "      <td>잃어버린 아이 이야기</td>\n",
       "      <td>534</td>\n",
       "      <td>한길사</td>\n",
       "      <td>2017-12-01</td>\n",
       "    </tr>\n",
       "    <tr>\n",
       "      <th>8</th>\n",
       "      <td>1059</td>\n",
       "      <td>데미안</td>\n",
       "      <td>489</td>\n",
       "      <td>민음사</td>\n",
       "      <td>2000-12-01</td>\n",
       "    </tr>\n",
       "    <tr>\n",
       "      <th>9</th>\n",
       "      <td>3345</td>\n",
       "      <td>초등영어 받아쓰기·듣기 10회 모의고사 초등 6학년 1</td>\n",
       "      <td>1568</td>\n",
       "      <td>마더텅</td>\n",
       "      <td>2019-04-01</td>\n",
       "    </tr>\n",
       "    <tr>\n",
       "      <th>10</th>\n",
       "      <td>1092</td>\n",
       "      <td>동주와 빈센트</td>\n",
       "      <td>503</td>\n",
       "      <td>저녁달고양이</td>\n",
       "      <td>2019-09-01</td>\n",
       "    </tr>\n",
       "  </tbody>\n",
       "</table>\n",
       "</div>"
      ],
      "text/plain": [
       "    book_id                       book_title  book_categ_id publisher  \\\n",
       "1      2219                             사피엔스           1062       김영사   \n",
       "2      1097                        문학이란 무엇인가            509       민음사   \n",
       "3      1061                            양철북 2            489       민음사   \n",
       "4      3270  뿌리깊은 초등국어 독해력 어휘편 3단계 (초등3,4학년)           1550       마더텅   \n",
       "5      3233      뿌리깊은 초등국어 독해력 1단계 (초등1,2학년)           1535       마더텅   \n",
       "6      2497                        생명이란 무엇인가           1196  까치(까치글방)   \n",
       "7      1137                      잃어버린 아이 이야기            534       한길사   \n",
       "8      1059                              데미안            489       민음사   \n",
       "9      3345   초등영어 받아쓰기·듣기 10회 모의고사 초등 6학년 1           1568       마더텅   \n",
       "10     1092                          동주와 빈센트            503    저녁달고양이   \n",
       "\n",
       "     pub_date  \n",
       "1  2015-11-01  \n",
       "2  1998-09-01  \n",
       "3  2000-03-01  \n",
       "4  2019-12-01  \n",
       "5  2018-03-01  \n",
       "6  2021-01-01  \n",
       "7  2017-12-01  \n",
       "8  2000-12-01  \n",
       "9  2019-04-01  \n",
       "10 2019-09-01  "
      ]
     },
     "execution_count": 21,
     "metadata": {},
     "output_type": "execute_result"
    }
   ],
   "source": [
    "%%SQL\n",
    "\n",
    "SELECT * FROM book1"
   ]
  },
  {
   "cell_type": "markdown",
   "id": "8ef9a195-d144-43f1-a5e9-ba2e911ebc8e",
   "metadata": {},
   "source": [
    "- MERGE INTO  구분을 사용해봅니다."
   ]
  },
  {
   "cell_type": "code",
   "execution_count": 22,
   "id": "c5839d3c-1b34-4d02-97cf-fc85b85cc5f2",
   "metadata": {},
   "outputs": [
    {
     "data": {
      "text/plain": [
       "'변경된 행의 수: 10'"
      ]
     },
     "execution_count": 22,
     "metadata": {},
     "output_type": "execute_result"
    }
   ],
   "source": [
    "%%SQL\n",
    "\n",
    "MERGE INTO book_info a \n",
    "USING (SELECT book_id, book_title, publisher, pub_date FROM book1) b ON (a.book_id = b.book_id)\n",
    "WHEN MATCHED THEN\n",
    "UPDATE SET \n",
    "    title = b.book_title,  publisher = b.publisher\n",
    "WHEN NOT MATCHED THEN\n",
    "INSERT (book_id, title, publisher, reg_date)\n",
    "VALUES (b.book_id, b.book_title, b.publisher, sysdate)"
   ]
  },
  {
   "cell_type": "code",
   "execution_count": 23,
   "id": "4b41f7ae-d6c3-4bf8-a9cf-7c280a28ae63",
   "metadata": {},
   "outputs": [
    {
     "data": {
      "text/html": [
       "<div>\n",
       "<style scoped>\n",
       "    .dataframe tbody tr th:only-of-type {\n",
       "        vertical-align: middle;\n",
       "    }\n",
       "\n",
       "    .dataframe tbody tr th {\n",
       "        vertical-align: top;\n",
       "    }\n",
       "\n",
       "    .dataframe thead th {\n",
       "        text-align: right;\n",
       "    }\n",
       "</style>\n",
       "<table border=\"1\" class=\"dataframe\">\n",
       "  <thead>\n",
       "    <tr style=\"text-align: right;\">\n",
       "      <th></th>\n",
       "      <th>book_id</th>\n",
       "      <th>title</th>\n",
       "      <th>publisher</th>\n",
       "      <th>reg_date</th>\n",
       "    </tr>\n",
       "  </thead>\n",
       "  <tbody>\n",
       "    <tr>\n",
       "      <th>1</th>\n",
       "      <td>1</td>\n",
       "      <td>해리포터</td>\n",
       "      <td>영국출판사</td>\n",
       "      <td>2025-05-06 00:00:00</td>\n",
       "    </tr>\n",
       "    <tr>\n",
       "      <th>2</th>\n",
       "      <td>1092</td>\n",
       "      <td>동주와 빈센트</td>\n",
       "      <td>저녁달고양이</td>\n",
       "      <td>2025-08-10 09:41:03</td>\n",
       "    </tr>\n",
       "    <tr>\n",
       "      <th>3</th>\n",
       "      <td>1059</td>\n",
       "      <td>데미안</td>\n",
       "      <td>민음사</td>\n",
       "      <td>2025-08-10 09:41:03</td>\n",
       "    </tr>\n",
       "    <tr>\n",
       "      <th>4</th>\n",
       "      <td>1061</td>\n",
       "      <td>양철북 2</td>\n",
       "      <td>민음사</td>\n",
       "      <td>2025-08-10 09:41:03</td>\n",
       "    </tr>\n",
       "    <tr>\n",
       "      <th>5</th>\n",
       "      <td>1097</td>\n",
       "      <td>문학이란 무엇인가</td>\n",
       "      <td>민음사</td>\n",
       "      <td>2025-08-10 09:41:03</td>\n",
       "    </tr>\n",
       "    <tr>\n",
       "      <th>6</th>\n",
       "      <td>1137</td>\n",
       "      <td>잃어버린 아이 이야기</td>\n",
       "      <td>한길사</td>\n",
       "      <td>2025-08-10 09:41:03</td>\n",
       "    </tr>\n",
       "    <tr>\n",
       "      <th>7</th>\n",
       "      <td>2219</td>\n",
       "      <td>사피엔스</td>\n",
       "      <td>김영사</td>\n",
       "      <td>2025-08-10 09:41:03</td>\n",
       "    </tr>\n",
       "    <tr>\n",
       "      <th>8</th>\n",
       "      <td>2497</td>\n",
       "      <td>생명이란 무엇인가</td>\n",
       "      <td>까치(까치글방)</td>\n",
       "      <td>2025-08-10 09:41:03</td>\n",
       "    </tr>\n",
       "    <tr>\n",
       "      <th>9</th>\n",
       "      <td>3233</td>\n",
       "      <td>뿌리깊은 초등국어 독해력 1단계 (초등1,2학년)</td>\n",
       "      <td>마더텅</td>\n",
       "      <td>2025-08-10 09:41:03</td>\n",
       "    </tr>\n",
       "    <tr>\n",
       "      <th>10</th>\n",
       "      <td>3270</td>\n",
       "      <td>뿌리깊은 초등국어 독해력 어휘편 3단계 (초등3,4학년)</td>\n",
       "      <td>마더텅</td>\n",
       "      <td>2025-08-10 09:41:03</td>\n",
       "    </tr>\n",
       "    <tr>\n",
       "      <th>11</th>\n",
       "      <td>3345</td>\n",
       "      <td>초등영어 받아쓰기·듣기 10회 모의고사 초등 6학년 1</td>\n",
       "      <td>마더텅</td>\n",
       "      <td>2025-08-10 09:41:03</td>\n",
       "    </tr>\n",
       "  </tbody>\n",
       "</table>\n",
       "</div>"
      ],
      "text/plain": [
       "    book_id                            title publisher            reg_date\n",
       "1         1                             해리포터     영국출판사 2025-05-06 00:00:00\n",
       "2      1092                          동주와 빈센트    저녁달고양이 2025-08-10 09:41:03\n",
       "3      1059                              데미안       민음사 2025-08-10 09:41:03\n",
       "4      1061                            양철북 2       민음사 2025-08-10 09:41:03\n",
       "5      1097                        문학이란 무엇인가       민음사 2025-08-10 09:41:03\n",
       "6      1137                      잃어버린 아이 이야기       한길사 2025-08-10 09:41:03\n",
       "7      2219                             사피엔스       김영사 2025-08-10 09:41:03\n",
       "8      2497                        생명이란 무엇인가  까치(까치글방) 2025-08-10 09:41:03\n",
       "9      3233      뿌리깊은 초등국어 독해력 1단계 (초등1,2학년)       마더텅 2025-08-10 09:41:03\n",
       "10     3270  뿌리깊은 초등국어 독해력 어휘편 3단계 (초등3,4학년)       마더텅 2025-08-10 09:41:03\n",
       "11     3345   초등영어 받아쓰기·듣기 10회 모의고사 초등 6학년 1       마더텅 2025-08-10 09:41:03"
      ]
     },
     "execution_count": 23,
     "metadata": {},
     "output_type": "execute_result"
    }
   ],
   "source": [
    "%%SQL\n",
    "\n",
    "SELECT * FROM book_info"
   ]
  },
  {
   "cell_type": "markdown",
   "id": "57edf3ce-241e-4dc0-8487-0a02401b39b2",
   "metadata": {},
   "source": [
    "# TCL(Transaction Control Language)\n",
    "\n",
    "|명령|설명|\n",
    "|-----|----|\n",
    "|COMMIT|변경 사항을 반영<br/>변경 이전 데이터 기억 해제<br/>모든 사용자가 변경 사항 조회 가능<br/>관련 행에 대한 잠금 해제. 타 사용자 조작가능|\n",
    "|ROLLBACK<br/>\\[포인트명\\]|변경 사항 취소<br/>관련 행에 대한 잠금 해제. 타 사용자 조작가능<br/>포인트명을 지정하면, SAVEPOINT가 지정된 이후의 변경 사항 취소<br/>포인트명 미지정시, 모두 취소|\n",
    "|SAVEPOINT<br/>포인트명|트랜잭션 내에서 ROLLBACK 시 복귀 지점 설정|\n"
   ]
  },
  {
   "cell_type": "markdown",
   "id": "55c6592c-89d4-44b2-8936-b0917262ba0b",
   "metadata": {},
   "source": [
    "**[예제 2]** 트랜젝션 기능을 확인합니다."
   ]
  },
  {
   "cell_type": "markdown",
   "id": "91ae29a0-d41c-44aa-a78f-8bd0d14dd63e",
   "metadata": {},
   "source": [
    "- TRUNCATE 테이블은 Transaction에 포함되지 않고, 즉각 삭제 작업이 반영됩니다."
   ]
  },
  {
   "cell_type": "code",
   "execution_count": 24,
   "id": "cfce581c-4203-4fc6-b678-4fa4272534c9",
   "metadata": {},
   "outputs": [
    {
     "data": {
      "text/plain": [
       "['TRUNCATE table book_info, 변경된 행의 수: 0', 'ROLLBACK, 변경된 행의 수: 0']"
      ]
     },
     "execution_count": 24,
     "metadata": {},
     "output_type": "execute_result"
    }
   ],
   "source": [
    "%%SQL\n",
    "\n",
    "TRUNCATE table book_info;\n",
    "ROLLBACK;"
   ]
  },
  {
   "cell_type": "code",
   "execution_count": 25,
   "id": "2fd8e887-9aa0-4840-aab4-bbd13eb72b1f",
   "metadata": {},
   "outputs": [
    {
     "data": {
      "text/html": [
       "<div>\n",
       "<style scoped>\n",
       "    .dataframe tbody tr th:only-of-type {\n",
       "        vertical-align: middle;\n",
       "    }\n",
       "\n",
       "    .dataframe tbody tr th {\n",
       "        vertical-align: top;\n",
       "    }\n",
       "\n",
       "    .dataframe thead th {\n",
       "        text-align: right;\n",
       "    }\n",
       "</style>\n",
       "<table border=\"1\" class=\"dataframe\">\n",
       "  <thead>\n",
       "    <tr style=\"text-align: right;\">\n",
       "      <th></th>\n",
       "      <th>book_id</th>\n",
       "      <th>title</th>\n",
       "      <th>publisher</th>\n",
       "      <th>reg_date</th>\n",
       "    </tr>\n",
       "  </thead>\n",
       "  <tbody>\n",
       "  </tbody>\n",
       "</table>\n",
       "</div>"
      ],
      "text/plain": [
       "Empty DataFrame\n",
       "Columns: [book_id, title, publisher, reg_date]\n",
       "Index: []"
      ]
     },
     "execution_count": 25,
     "metadata": {},
     "output_type": "execute_result"
    }
   ],
   "source": [
    "%%SQL\n",
    "\n",
    "SELECT * FROM book_info"
   ]
  },
  {
   "cell_type": "code",
   "execution_count": 26,
   "id": "b11c4c0e-4692-4da5-a623-57d57ac7be34",
   "metadata": {},
   "outputs": [
    {
     "data": {
      "text/plain": [
       "[\"INSERT INTO book_info(book_id, title, publisher, reg_date)\\nVALUES (1, '해리포터', '외국출판사', to_date('2025-05-07', 'yyyy-mm-dd')), 변경된 행의 수: 1\",\n",
       " \"INSERT INTO book_info\\nVALUES (2, '반지의 제왕', '보석출판사', to_date('2025_06-01', 'yyyy-mm-dd')), 변경된 행의 수: 1\",\n",
       " 'SAVEPOINT sp1, 변경된 행의 수: 0',\n",
       " \"INSERT INTO book_info (book_id, title, publisher, reg_date)\\nVALUES (3, '명탐정 코난', '일본출판사', SYSDATE), 변경된 행의 수: 1\",\n",
       " 'ROLLBACK TO sp1, 변경된 행의 수: 0',\n",
       " 'COMMIT, 변경된 행의 수: 0']"
      ]
     },
     "execution_count": 26,
     "metadata": {},
     "output_type": "execute_result"
    }
   ],
   "source": [
    "%%SQL\n",
    "\n",
    "INSERT INTO book_info(book_id, title, publisher, reg_date)\n",
    "VALUES (1, '해리포터', '외국출판사', to_date('2025-05-07', 'yyyy-mm-dd'));\n",
    "\n",
    "INSERT INTO book_info\n",
    "VALUES (2, '반지의 제왕', '보석출판사', to_date('2025_06-01', 'yyyy-mm-dd'));\n",
    "\n",
    "SAVEPOINT sp1;\n",
    "\n",
    "INSERT INTO book_info (book_id, title, publisher, reg_date)\n",
    "VALUES (3, '명탐정 코난', '일본출판사', SYSDATE);\n",
    "\n",
    "ROLLBACK TO sp1;\n",
    "\n",
    "COMMIT;"
   ]
  },
  {
   "cell_type": "code",
   "execution_count": 27,
   "id": "c377f3b5-a7a5-4201-8fb8-cc629d4a200b",
   "metadata": {},
   "outputs": [
    {
     "data": {
      "text/html": [
       "<div>\n",
       "<style scoped>\n",
       "    .dataframe tbody tr th:only-of-type {\n",
       "        vertical-align: middle;\n",
       "    }\n",
       "\n",
       "    .dataframe tbody tr th {\n",
       "        vertical-align: top;\n",
       "    }\n",
       "\n",
       "    .dataframe thead th {\n",
       "        text-align: right;\n",
       "    }\n",
       "</style>\n",
       "<table border=\"1\" class=\"dataframe\">\n",
       "  <thead>\n",
       "    <tr style=\"text-align: right;\">\n",
       "      <th></th>\n",
       "      <th>book_id</th>\n",
       "      <th>title</th>\n",
       "      <th>publisher</th>\n",
       "      <th>reg_date</th>\n",
       "    </tr>\n",
       "  </thead>\n",
       "  <tbody>\n",
       "    <tr>\n",
       "      <th>1</th>\n",
       "      <td>1</td>\n",
       "      <td>해리포터</td>\n",
       "      <td>외국출판사</td>\n",
       "      <td>2025-05-07</td>\n",
       "    </tr>\n",
       "    <tr>\n",
       "      <th>2</th>\n",
       "      <td>2</td>\n",
       "      <td>반지의 제왕</td>\n",
       "      <td>보석출판사</td>\n",
       "      <td>2025-06-01</td>\n",
       "    </tr>\n",
       "  </tbody>\n",
       "</table>\n",
       "</div>"
      ],
      "text/plain": [
       "   book_id   title publisher   reg_date\n",
       "1        1    해리포터     외국출판사 2025-05-07\n",
       "2        2  반지의 제왕     보석출판사 2025-06-01"
      ]
     },
     "execution_count": 27,
     "metadata": {},
     "output_type": "execute_result"
    }
   ],
   "source": [
    "%%SQL\n",
    "\n",
    "SELECT * FROM book_info"
   ]
  },
  {
   "cell_type": "markdown",
   "id": "afa62c19-9bd4-4d88-94a6-4db7d82fec9e",
   "metadata": {},
   "source": [
    "- 비정상 종료시 롤백됩니다.\n",
    "\n",
    "- 접속해제시 커밋됩니다."
   ]
  },
  {
   "cell_type": "code",
   "execution_count": 28,
   "id": "5f1b331c-8aec-4109-953f-c0fd5378b5db",
   "metadata": {},
   "outputs": [
    {
     "name": "stdout",
     "output_type": "stream",
     "text": [
      "(cx_Oracle.IntegrityError) ORA-00001: unique constraint (LIB.PK_BOOK_INFO) violated\n",
      "[SQL: INSERT INTO book_info (book_id, title, publisher, reg_date)\n",
      "VALUES (4, '명탐정 코난', '일본출판사', SYSDATE)]\n",
      "(Background on this error at: https://sqlalche.me/e/20/gkpj)\n"
     ]
    }
   ],
   "source": [
    "%%SQL\n",
    "\n",
    "INSERT INTO book_info(book_id, title, publisher, reg_date)\n",
    "VALUES (4, '해리포터', '외국출판사', to_date('2025-05-07', 'yyyy-mm-dd'));\n",
    "\n",
    "INSERT INTO book_info\n",
    "VALUES (5, '반지의 제왕', '보석출판사', to_date('2025_06-01', 'yyyy-mm-dd'));\n",
    "\n",
    "SAVEPOINT sp1;\n",
    "\n",
    "INSERT INTO book_info (book_id, title, publisher, reg_date)\n",
    "VALUES (4, '명탐정 코난', '일본출판사', SYSDATE);\n",
    "\n",
    "ROLLBACK TO sp1;\n",
    "\n",
    "COMMIT;"
   ]
  },
  {
   "cell_type": "code",
   "execution_count": 29,
   "id": "11cfbd87-1824-4cbe-b958-bf9748837c22",
   "metadata": {},
   "outputs": [
    {
     "data": {
      "text/html": [
       "<div>\n",
       "<style scoped>\n",
       "    .dataframe tbody tr th:only-of-type {\n",
       "        vertical-align: middle;\n",
       "    }\n",
       "\n",
       "    .dataframe tbody tr th {\n",
       "        vertical-align: top;\n",
       "    }\n",
       "\n",
       "    .dataframe thead th {\n",
       "        text-align: right;\n",
       "    }\n",
       "</style>\n",
       "<table border=\"1\" class=\"dataframe\">\n",
       "  <thead>\n",
       "    <tr style=\"text-align: right;\">\n",
       "      <th></th>\n",
       "      <th>book_id</th>\n",
       "      <th>title</th>\n",
       "      <th>publisher</th>\n",
       "      <th>reg_date</th>\n",
       "    </tr>\n",
       "  </thead>\n",
       "  <tbody>\n",
       "    <tr>\n",
       "      <th>1</th>\n",
       "      <td>1</td>\n",
       "      <td>해리포터</td>\n",
       "      <td>외국출판사</td>\n",
       "      <td>2025-05-07</td>\n",
       "    </tr>\n",
       "    <tr>\n",
       "      <th>2</th>\n",
       "      <td>2</td>\n",
       "      <td>반지의 제왕</td>\n",
       "      <td>보석출판사</td>\n",
       "      <td>2025-06-01</td>\n",
       "    </tr>\n",
       "  </tbody>\n",
       "</table>\n",
       "</div>"
      ],
      "text/plain": [
       "   book_id   title publisher   reg_date\n",
       "1        1    해리포터     외국출판사 2025-05-07\n",
       "2        2  반지의 제왕     보석출판사 2025-06-01"
      ]
     },
     "execution_count": 29,
     "metadata": {},
     "output_type": "execute_result"
    }
   ],
   "source": [
    "%%SQL\n",
    "\n",
    "SELECT * FROM book_info"
   ]
  },
  {
   "attachments": {},
   "cell_type": "markdown",
   "id": "bd7b3f89-40b5-443a-ba20-4070c144b1a3",
   "metadata": {},
   "source": [
    "# DDL(Data Definition Language)\n",
    "\n",
    "## CREATE TABLE\n",
    "\n",
    "```SQL\n",
    "CREATE TABLE 테이블명(\n",
    "   컬럼명1   데이터유형 [기본값1] [NOT NULL]\n",
    "   ,컬럼명2  데이터유형 [기본값2] [NOT NULL]\n",
    "   ,…\n",
    "   [, CONSTRAINT 제약명1 제약 조건1,  …]\n",
    ");\n",
    "```\n",
    "\n",
    "**제약조건**\n",
    "\n",
    "|종류|설명|\n",
    "|----|-----|\n",
    "|PRIMARY KEY|식별자로 사용하는 기본키 지정<br/>테이블 당 하나만 정의 가능<br/>UNIQUE와 NOT NULL 제약을 포함|\n",
    "|UNIQUE|고유값 제약<br/>NULL은 제약 대상에서 빠진다|\n",
    "|NOT NULL|NULL 값 미허용|\n",
    "|CHECK|입력할 수 있는 값에 대한 제약|\n",
    "|FOREIGN KEY|외래키 지정|\n",
    "\n",
    "\n",
    "**명명 규칙**\n",
    "\n",
    "<table>\n",
    "  <tr>\n",
    "    <th >테이블</th><th>컬럼</th>\n",
    "  </tr>\n",
    "  <tr>\n",
    "    <td>객체 의미를 나타낼 수 있는 이름<br/>가능한 단수<br/>데이터베이스에서 중복불가</td>\n",
    "    <td>테이블 내에서 중복 불가<br/>일관성 있게 사용하는 것을 권장</td>\n",
    "  </tr>\n",
    "  <tr>\n",
    "    <td colspan=\"2\">반드시 문자로 시작<br/>예약어 사용불가<br/>허용 글자: A-Z, a-z, 0-9, %, #<br/>대소문자를 구분하지 않지만, 내부적으로 대문자로 만들어짐</td>\n",
    "  </tr>\n",
    "</table>\n",
    "\n",
    "```SQL\n",
    "CREATE TABLE 테이블명 AS SELECT 구문\n",
    "```\n"
   ]
  },
  {
   "cell_type": "markdown",
   "id": "bd2f640d-8f54-4645-883a-bb294035fd1a",
   "metadata": {},
   "source": [
    "**[예제 3]** DDL의 기능을 확인해봅니다."
   ]
  },
  {
   "cell_type": "markdown",
   "id": "0a257ca8-ddab-4b98-99ca-dec0a3699602",
   "metadata": {},
   "source": [
    "- book_stock 테이블을 생성합니다.\n",
    "\n",
    " CHECK 는 도메인의 조건을 나타냅니다."
   ]
  },
  {
   "cell_type": "code",
   "execution_count": 30,
   "id": "45115db9-ca1b-4c8a-a766-da1d9bc6d9d1",
   "metadata": {},
   "outputs": [
    {
     "data": {
      "text/plain": [
       "'변경된 행의 수: 0'"
      ]
     },
     "execution_count": 30,
     "metadata": {},
     "output_type": "execute_result"
    }
   ],
   "source": [
    "%%SQL\n",
    "\n",
    "CREATE TABLE book_stock (\n",
    "    book_id NUMBER(12) NOT NULL,\n",
    "    stock_seq NUMBER(10) CHECK(stock_seq > 0),\n",
    "    book_status NUMBER(8) CHECK (book_status in (1, 2, 3, 4)),\n",
    "    book_location VARCHAR(100) UNIQUE, \n",
    "    reg_date DATE,\n",
    "    CONSTRAINT PK_BOOK_STOCK PRIMARY KEY (book_id, stock_seq),\n",
    "    CONSTRAINT FK_BOOK_STOCK FOREIGN KEY (book_id) REFERENCES book(book_id) ON DELETE CASCADE\n",
    ");"
   ]
  },
  {
   "cell_type": "code",
   "execution_count": 31,
   "id": "3866100f-5199-4843-9ec3-1421352e7224",
   "metadata": {},
   "outputs": [
    {
     "data": {
      "text/html": [
       "<div>\n",
       "<style scoped>\n",
       "    .dataframe tbody tr th:only-of-type {\n",
       "        vertical-align: middle;\n",
       "    }\n",
       "\n",
       "    .dataframe tbody tr th {\n",
       "        vertical-align: top;\n",
       "    }\n",
       "\n",
       "    .dataframe thead th {\n",
       "        text-align: right;\n",
       "    }\n",
       "</style>\n",
       "<table border=\"1\" class=\"dataframe\">\n",
       "  <thead>\n",
       "    <tr style=\"text-align: right;\">\n",
       "      <th></th>\n",
       "      <th>book_id</th>\n",
       "      <th>stock_seq</th>\n",
       "      <th>book_status</th>\n",
       "      <th>book_location</th>\n",
       "      <th>reg_date</th>\n",
       "    </tr>\n",
       "  </thead>\n",
       "  <tbody>\n",
       "  </tbody>\n",
       "</table>\n",
       "</div>"
      ],
      "text/plain": [
       "Empty DataFrame\n",
       "Columns: [book_id, stock_seq, book_status, book_location, reg_date]\n",
       "Index: []"
      ]
     },
     "execution_count": 31,
     "metadata": {},
     "output_type": "execute_result"
    }
   ],
   "source": [
    "%%SQL\n",
    "\n",
    "SELECT * FROM book_stock"
   ]
  },
  {
   "cell_type": "code",
   "execution_count": 32,
   "id": "908942b0-c6aa-4686-96b2-3bedf403ae47",
   "metadata": {},
   "outputs": [
    {
     "data": {
      "text/html": [
       "<div>\n",
       "<style scoped>\n",
       "    .dataframe tbody tr th:only-of-type {\n",
       "        vertical-align: middle;\n",
       "    }\n",
       "\n",
       "    .dataframe tbody tr th {\n",
       "        vertical-align: top;\n",
       "    }\n",
       "\n",
       "    .dataframe thead th {\n",
       "        text-align: right;\n",
       "    }\n",
       "</style>\n",
       "<table border=\"1\" class=\"dataframe\">\n",
       "  <thead>\n",
       "    <tr style=\"text-align: right;\">\n",
       "      <th></th>\n",
       "      <th>book_id</th>\n",
       "      <th>book_title</th>\n",
       "      <th>book_subtitle</th>\n",
       "      <th>book_categ_id</th>\n",
       "      <th>publisher</th>\n",
       "      <th>authors</th>\n",
       "      <th>summary</th>\n",
       "      <th>pub_date</th>\n",
       "      <th>reg_date</th>\n",
       "    </tr>\n",
       "  </thead>\n",
       "  <tbody>\n",
       "    <tr>\n",
       "      <th>1</th>\n",
       "      <td>2924</td>\n",
       "      <td>디렉터 6과 링고</td>\n",
       "      <td>NULL</td>\n",
       "      <td>1409</td>\n",
       "      <td>대림</td>\n",
       "      <td>이제민</td>\n",
       "      <td>디렉터의 기초부터 다양한 애니메이션을 만드는 기법, 그리고 디렉터 언어인 링고 스크...</td>\n",
       "      <td>1999-02-01</td>\n",
       "      <td>1999-02-01 12:40:53</td>\n",
       "    </tr>\n",
       "    <tr>\n",
       "      <th>2</th>\n",
       "      <td>2231</td>\n",
       "      <td>마르크스 그 가능성의 중심</td>\n",
       "      <td>NULL</td>\n",
       "      <td>1070</td>\n",
       "      <td>이산</td>\n",
       "      <td>가라타니 고진|김경원</td>\n",
       "      <td>이 책은 마르크스 '자본론'의 가치형태론을 구조주의적 언어분석을 통해 읽고, 일본문...</td>\n",
       "      <td>1999-05-01</td>\n",
       "      <td>1999-05-01 11:18:17</td>\n",
       "    </tr>\n",
       "    <tr>\n",
       "      <th>3</th>\n",
       "      <td>2008</td>\n",
       "      <td>도예 기초 실기</td>\n",
       "      <td>NULL</td>\n",
       "      <td>953</td>\n",
       "      <td>예경</td>\n",
       "      <td>한홍곤</td>\n",
       "      <td>처음 도예를 배우는 사람에게 도움을 주기 위해 저자가 30년 가까이 교육 현장에서 ...</td>\n",
       "      <td>1999-08-01</td>\n",
       "      <td>1999-08-01 13:44:46</td>\n",
       "    </tr>\n",
       "    <tr>\n",
       "      <th>4</th>\n",
       "      <td>517</td>\n",
       "      <td>제제공학</td>\n",
       "      <td>NULL</td>\n",
       "      <td>250</td>\n",
       "      <td>신일상사</td>\n",
       "      <td>제제공학편찬위원회</td>\n",
       "      <td>NULL</td>\n",
       "      <td>1999-09-01</td>\n",
       "      <td>1999-09-01 15:51:15</td>\n",
       "    </tr>\n",
       "    <tr>\n",
       "      <th>5</th>\n",
       "      <td>2443</td>\n",
       "      <td>한국 공동주택계획의 역사</td>\n",
       "      <td>NULL</td>\n",
       "      <td>1174</td>\n",
       "      <td>세진사</td>\n",
       "      <td>강부성</td>\n",
       "      <td>NULL</td>\n",
       "      <td>1999-10-01</td>\n",
       "      <td>1999-10-01 12:56:03</td>\n",
       "    </tr>\n",
       "  </tbody>\n",
       "</table>\n",
       "</div>"
      ],
      "text/plain": [
       "   book_id      book_title book_subtitle  book_categ_id publisher  \\\n",
       "1     2924       디렉터 6과 링고          NULL           1409        대림   \n",
       "2     2231  마르크스 그 가능성의 중심          NULL           1070        이산   \n",
       "3     2008        도예 기초 실기          NULL            953        예경   \n",
       "4      517            제제공학          NULL            250      신일상사   \n",
       "5     2443   한국 공동주택계획의 역사          NULL           1174       세진사   \n",
       "\n",
       "       authors                                            summary   pub_date  \\\n",
       "1          이제민  디렉터의 기초부터 다양한 애니메이션을 만드는 기법, 그리고 디렉터 언어인 링고 스크... 1999-02-01   \n",
       "2  가라타니 고진|김경원  이 책은 마르크스 '자본론'의 가치형태론을 구조주의적 언어분석을 통해 읽고, 일본문... 1999-05-01   \n",
       "3          한홍곤  처음 도예를 배우는 사람에게 도움을 주기 위해 저자가 30년 가까이 교육 현장에서 ... 1999-08-01   \n",
       "4    제제공학편찬위원회                                               NULL 1999-09-01   \n",
       "5          강부성                                               NULL 1999-10-01   \n",
       "\n",
       "             reg_date  \n",
       "1 1999-02-01 12:40:53  \n",
       "2 1999-05-01 11:18:17  \n",
       "3 1999-08-01 13:44:46  \n",
       "4 1999-09-01 15:51:15  \n",
       "5 1999-10-01 12:56:03  "
      ]
     },
     "execution_count": 32,
     "metadata": {},
     "output_type": "execute_result"
    }
   ],
   "source": [
    "%%SQL\n",
    "\n",
    "SELECT * \n",
    "FROM book\n",
    "FETCH FIRST 5 ROWS ONLY"
   ]
  },
  {
   "cell_type": "markdown",
   "id": "e56fe421-385f-4b47-920e-2e629a2c3f1e",
   "metadata": {},
   "source": [
    "- 레코드를 하나 넣어 봅니다."
   ]
  },
  {
   "cell_type": "code",
   "execution_count": 33,
   "id": "9e9f575f-8399-4dfe-a006-70a1b6ba4898",
   "metadata": {},
   "outputs": [
    {
     "name": "stdout",
     "output_type": "stream",
     "text": [
      "(cx_Oracle.IntegrityError) ORA-02290: check constraint (LIB.SYS_C008417) violated\n",
      "[SQL: INSERT INTO book_stock(book_id, stock_seq, book_status, book_location, reg_date)\n",
      "VALUES (2924, 0, 1, '1 도서관', sysdate)]\n",
      "(Background on this error at: https://sqlalche.me/e/20/gkpj)\n"
     ]
    }
   ],
   "source": [
    "%%SQL\n",
    "\n",
    "INSERT INTO book_stock(book_id, stock_seq, book_status, book_location, reg_date)\n",
    "VALUES (2924, 0, 1, '1 도서관', sysdate)"
   ]
  },
  {
   "cell_type": "markdown",
   "id": "c6b9426e-2fc9-4ba4-b640-75236d9f9f04",
   "metadata": {},
   "source": [
    "stock_seq > 0 인 도메인 조건에 어긋나 에러가 납니다."
   ]
  },
  {
   "cell_type": "code",
   "execution_count": 34,
   "id": "72cd5312-7cb0-41c0-8f9a-66e9e109b87f",
   "metadata": {},
   "outputs": [
    {
     "data": {
      "text/plain": [
       "'변경된 행의 수: 1'"
      ]
     },
     "execution_count": 34,
     "metadata": {},
     "output_type": "execute_result"
    }
   ],
   "source": [
    "%%SQL\n",
    "\n",
    "INSERT INTO book_stock(book_id, stock_seq, book_status, book_location, reg_date)\n",
    "VALUES (2924, 1, 1, '1 도서관', sysdate)"
   ]
  },
  {
   "cell_type": "code",
   "execution_count": 35,
   "id": "a0d02f57-7737-4496-bb11-0f15a64609fe",
   "metadata": {},
   "outputs": [
    {
     "data": {
      "text/plain": [
       "MAX(STOCK_SEQ)+1    2\n",
       "Name: 1, dtype: int64"
      ]
     },
     "execution_count": 35,
     "metadata": {},
     "output_type": "execute_result"
    }
   ],
   "source": [
    "%%SQL\n",
    "\n",
    "SELECT max(stock_seq) + 1 FROM book_stock WHERE book_id = 2924"
   ]
  },
  {
   "cell_type": "markdown",
   "id": "33203a26-e747-477b-aa15-11e637701aee",
   "metadata": {},
   "source": [
    "- book_location에는 UNIQUE 제약이 있습니다. 위와 동일한 book_location을 넣어 봅니다."
   ]
  },
  {
   "cell_type": "code",
   "execution_count": 36,
   "id": "11136ab6-ff01-4978-9171-bf54c42f4e82",
   "metadata": {},
   "outputs": [
    {
     "name": "stdout",
     "output_type": "stream",
     "text": [
      "(cx_Oracle.IntegrityError) ORA-00001: unique constraint (LIB.SYS_C008420) violated\n",
      "[SQL: INSERT INTO book_stock(book_id, stock_seq, book_status, book_location, reg_date)\n",
      "VALUES\n",
      "    (2924, (SELECT max(stock_seq) + 1 FROM book_stock WHERE book_id = 2924), 1, '1 도서관', sysdate)]\n",
      "(Background on this error at: https://sqlalche.me/e/20/gkpj)\n"
     ]
    }
   ],
   "source": [
    "%%SQL\n",
    "\n",
    "INSERT INTO book_stock(book_id, stock_seq, book_status, book_location, reg_date)\n",
    "VALUES\n",
    "    (2924, (SELECT max(stock_seq) + 1 FROM book_stock WHERE book_id = 2924), 1, '1 도서관', sysdate)"
   ]
  },
  {
   "cell_type": "markdown",
   "id": "d4d6cd8c-2a1f-493f-9c45-1d91b95fc4a3",
   "metadata": {},
   "source": [
    "- UNIQUE 제약이 어긋나 에러가 납니다."
   ]
  },
  {
   "cell_type": "code",
   "execution_count": 37,
   "id": "7a2afca0-b123-4ae4-a99b-df370a663dec",
   "metadata": {},
   "outputs": [
    {
     "data": {
      "text/plain": [
       "'변경된 행의 수: 1'"
      ]
     },
     "execution_count": 37,
     "metadata": {},
     "output_type": "execute_result"
    }
   ],
   "source": [
    "%%SQL\n",
    "\n",
    "INSERT INTO book_stock(book_id, stock_seq, book_status, book_location, reg_date)\n",
    "VALUES\n",
    "    (2924, (SELECT max(stock_seq) + 1 FROM book_stock WHERE book_id = 2924), 1, '2 도서관', sysdate)"
   ]
  },
  {
   "cell_type": "code",
   "execution_count": 38,
   "id": "5ddb1699-929d-42c6-b414-6db7d1753d87",
   "metadata": {},
   "outputs": [
    {
     "data": {
      "text/plain": [
       "'변경된 행의 수: 1'"
      ]
     },
     "execution_count": 38,
     "metadata": {},
     "output_type": "execute_result"
    }
   ],
   "source": [
    "%%SQL\n",
    "\n",
    "INSERT INTO book_stock(book_id, stock_seq, book_status, book_location, reg_date)\n",
    "VALUES\n",
    "    (2231, (SELECT nvl(max(stock_seq), 0) + 1 FROM book_stock WHERE book_id = 2231), 1, '3 도서관', sysdate)"
   ]
  },
  {
   "cell_type": "code",
   "execution_count": 39,
   "id": "5fa25054-1a7c-42ca-90de-8ccea8e3d452",
   "metadata": {},
   "outputs": [
    {
     "data": {
      "text/html": [
       "<div>\n",
       "<style scoped>\n",
       "    .dataframe tbody tr th:only-of-type {\n",
       "        vertical-align: middle;\n",
       "    }\n",
       "\n",
       "    .dataframe tbody tr th {\n",
       "        vertical-align: top;\n",
       "    }\n",
       "\n",
       "    .dataframe thead th {\n",
       "        text-align: right;\n",
       "    }\n",
       "</style>\n",
       "<table border=\"1\" class=\"dataframe\">\n",
       "  <thead>\n",
       "    <tr style=\"text-align: right;\">\n",
       "      <th></th>\n",
       "      <th>book_id</th>\n",
       "      <th>stock_seq</th>\n",
       "      <th>book_status</th>\n",
       "      <th>book_location</th>\n",
       "      <th>reg_date</th>\n",
       "      <th>book_title</th>\n",
       "      <th>publisher</th>\n",
       "    </tr>\n",
       "  </thead>\n",
       "  <tbody>\n",
       "    <tr>\n",
       "      <th>1</th>\n",
       "      <td>2924</td>\n",
       "      <td>1</td>\n",
       "      <td>1</td>\n",
       "      <td>1 도서관</td>\n",
       "      <td>2025-08-10 09:41:03</td>\n",
       "      <td>디렉터 6과 링고</td>\n",
       "      <td>대림</td>\n",
       "    </tr>\n",
       "    <tr>\n",
       "      <th>2</th>\n",
       "      <td>2924</td>\n",
       "      <td>2</td>\n",
       "      <td>1</td>\n",
       "      <td>2 도서관</td>\n",
       "      <td>2025-08-10 09:41:03</td>\n",
       "      <td>디렉터 6과 링고</td>\n",
       "      <td>대림</td>\n",
       "    </tr>\n",
       "    <tr>\n",
       "      <th>3</th>\n",
       "      <td>2231</td>\n",
       "      <td>1</td>\n",
       "      <td>1</td>\n",
       "      <td>3 도서관</td>\n",
       "      <td>2025-08-10 09:41:03</td>\n",
       "      <td>마르크스 그 가능성의 중심</td>\n",
       "      <td>이산</td>\n",
       "    </tr>\n",
       "  </tbody>\n",
       "</table>\n",
       "</div>"
      ],
      "text/plain": [
       "   book_id  stock_seq  book_status book_location            reg_date  \\\n",
       "1     2924          1            1         1 도서관 2025-08-10 09:41:03   \n",
       "2     2924          2            1         2 도서관 2025-08-10 09:41:03   \n",
       "3     2231          1            1         3 도서관 2025-08-10 09:41:03   \n",
       "\n",
       "       book_title publisher  \n",
       "1       디렉터 6과 링고        대림  \n",
       "2       디렉터 6과 링고        대림  \n",
       "3  마르크스 그 가능성의 중심        이산  "
      ]
     },
     "execution_count": 39,
     "metadata": {},
     "output_type": "execute_result"
    }
   ],
   "source": [
    "%%SQL\n",
    "\n",
    "SELECT a.*, b.book_title, b.publisher\n",
    "FROM book_stock a LEFT OUTER JOIN book b ON a.book_id =  b.book_id"
   ]
  },
  {
   "attachments": {},
   "cell_type": "markdown",
   "id": "447bddbd-8aa8-4832-8c87-8510f47199cb",
   "metadata": {},
   "source": [
    "## ALTER TABLE\n",
    "\n",
    "|명령|설명|\n",
    "|-----|----|\n",
    "|ADD |ALTER TABLE 테이블명<br/>ADD (추가할 컬럼명1 데이터유형 [기본 값] [NOT NULL]<br/>[, 추가할 컬럼명1 데이터유형 [기본 값] [NOT NULL]<br/>, …]);|\n",
    "|DROP COLUMN|ALTER TABLE 테이블명 DROP (삭제할 컬럼1[, 삭제할 컬럼2, …]);<br/>MODIFY COLUMN\tALTER TABLE 테이블명<br/>MODIFY (컬럼명1 테이블유형1 [기본 값1] [NOT NULL]<br/>[, 컬럼명2, 테이블유형2 [기본 값1] [NOT NULL]<br/>, …]);|\n",
    "|RENAME COLUMN|ALTER TABLE 테이블명 RENAME COLUMN 기존 컬럼명 TO  새로운 컬럼명|\n",
    "|DROP CONSTRAINT|ALTER TABLE 테이블명 DROP CONSTRAINT 제약조건명;|\n",
    "|ADD CONSTRAINT|ALTER TABLE 테이블명 ADD CONSTRAINT 제약조건명 제약조건;\t|\n",
    "\n"
   ]
  },
  {
   "cell_type": "markdown",
   "id": "3ab47e4a-b4ef-4928-ba53-0007f9c2356c",
   "metadata": {},
   "source": [
    "**[예제 4]** ALTER TABLE의 기능을 알아 봅니다."
   ]
  },
  {
   "cell_type": "code",
   "execution_count": 40,
   "id": "9e01ba3b-2588-4f51-bca1-89df4d886c59",
   "metadata": {},
   "outputs": [
    {
     "data": {
      "text/html": [
       "<div>\n",
       "<style scoped>\n",
       "    .dataframe tbody tr th:only-of-type {\n",
       "        vertical-align: middle;\n",
       "    }\n",
       "\n",
       "    .dataframe tbody tr th {\n",
       "        vertical-align: top;\n",
       "    }\n",
       "\n",
       "    .dataframe thead th {\n",
       "        text-align: right;\n",
       "    }\n",
       "</style>\n",
       "<table border=\"1\" class=\"dataframe\">\n",
       "  <thead>\n",
       "    <tr style=\"text-align: right;\">\n",
       "      <th></th>\n",
       "      <th>book_id</th>\n",
       "      <th>stock_seq</th>\n",
       "      <th>book_status</th>\n",
       "      <th>book_location</th>\n",
       "      <th>reg_date</th>\n",
       "    </tr>\n",
       "  </thead>\n",
       "  <tbody>\n",
       "    <tr>\n",
       "      <th>1</th>\n",
       "      <td>2924</td>\n",
       "      <td>1</td>\n",
       "      <td>1</td>\n",
       "      <td>1 도서관</td>\n",
       "      <td>2025-08-10 09:41:03</td>\n",
       "    </tr>\n",
       "    <tr>\n",
       "      <th>2</th>\n",
       "      <td>2924</td>\n",
       "      <td>2</td>\n",
       "      <td>1</td>\n",
       "      <td>2 도서관</td>\n",
       "      <td>2025-08-10 09:41:03</td>\n",
       "    </tr>\n",
       "    <tr>\n",
       "      <th>3</th>\n",
       "      <td>2231</td>\n",
       "      <td>1</td>\n",
       "      <td>1</td>\n",
       "      <td>3 도서관</td>\n",
       "      <td>2025-08-10 09:41:03</td>\n",
       "    </tr>\n",
       "  </tbody>\n",
       "</table>\n",
       "</div>"
      ],
      "text/plain": [
       "   book_id  stock_seq  book_status book_location            reg_date\n",
       "1     2924          1            1         1 도서관 2025-08-10 09:41:03\n",
       "2     2924          2            1         2 도서관 2025-08-10 09:41:03\n",
       "3     2231          1            1         3 도서관 2025-08-10 09:41:03"
      ]
     },
     "execution_count": 40,
     "metadata": {},
     "output_type": "execute_result"
    }
   ],
   "source": [
    "%%SQL\n",
    "\n",
    "SELECT * FROM book_stock"
   ]
  },
  {
   "cell_type": "markdown",
   "id": "b9e7e353-3b9d-4a94-a3cc-73c329df4c6d",
   "metadata": {},
   "source": [
    "- book_manager 컬럼을 추가합니다."
   ]
  },
  {
   "cell_type": "code",
   "execution_count": 41,
   "id": "2bb5cd34-5b40-43a3-99c1-614720bd5293",
   "metadata": {},
   "outputs": [
    {
     "data": {
      "text/plain": [
       "'변경된 행의 수: 0'"
      ]
     },
     "execution_count": 41,
     "metadata": {},
     "output_type": "execute_result"
    }
   ],
   "source": [
    "%%SQL\n",
    "\n",
    "ALTER TABLE book_stock\n",
    "ADD book_manager VARCHAR2(100)"
   ]
  },
  {
   "cell_type": "code",
   "execution_count": 42,
   "id": "64901c81-a2ef-4aa1-9b2a-59f22e250b5c",
   "metadata": {},
   "outputs": [
    {
     "data": {
      "text/html": [
       "<div>\n",
       "<style scoped>\n",
       "    .dataframe tbody tr th:only-of-type {\n",
       "        vertical-align: middle;\n",
       "    }\n",
       "\n",
       "    .dataframe tbody tr th {\n",
       "        vertical-align: top;\n",
       "    }\n",
       "\n",
       "    .dataframe thead th {\n",
       "        text-align: right;\n",
       "    }\n",
       "</style>\n",
       "<table border=\"1\" class=\"dataframe\">\n",
       "  <thead>\n",
       "    <tr style=\"text-align: right;\">\n",
       "      <th></th>\n",
       "      <th>book_id</th>\n",
       "      <th>stock_seq</th>\n",
       "      <th>book_status</th>\n",
       "      <th>book_location</th>\n",
       "      <th>reg_date</th>\n",
       "      <th>book_manager</th>\n",
       "    </tr>\n",
       "  </thead>\n",
       "  <tbody>\n",
       "    <tr>\n",
       "      <th>1</th>\n",
       "      <td>2924</td>\n",
       "      <td>1</td>\n",
       "      <td>1</td>\n",
       "      <td>1 도서관</td>\n",
       "      <td>2025-08-10 09:41:03</td>\n",
       "      <td>NULL</td>\n",
       "    </tr>\n",
       "    <tr>\n",
       "      <th>2</th>\n",
       "      <td>2924</td>\n",
       "      <td>2</td>\n",
       "      <td>1</td>\n",
       "      <td>2 도서관</td>\n",
       "      <td>2025-08-10 09:41:03</td>\n",
       "      <td>NULL</td>\n",
       "    </tr>\n",
       "    <tr>\n",
       "      <th>3</th>\n",
       "      <td>2231</td>\n",
       "      <td>1</td>\n",
       "      <td>1</td>\n",
       "      <td>3 도서관</td>\n",
       "      <td>2025-08-10 09:41:03</td>\n",
       "      <td>NULL</td>\n",
       "    </tr>\n",
       "  </tbody>\n",
       "</table>\n",
       "</div>"
      ],
      "text/plain": [
       "   book_id  stock_seq  book_status book_location            reg_date  \\\n",
       "1     2924          1            1         1 도서관 2025-08-10 09:41:03   \n",
       "2     2924          2            1         2 도서관 2025-08-10 09:41:03   \n",
       "3     2231          1            1         3 도서관 2025-08-10 09:41:03   \n",
       "\n",
       "  book_manager  \n",
       "1         NULL  \n",
       "2         NULL  \n",
       "3         NULL  "
      ]
     },
     "execution_count": 42,
     "metadata": {},
     "output_type": "execute_result"
    }
   ],
   "source": [
    "%%SQL\n",
    "\n",
    "SELECT * FROM book_stock"
   ]
  },
  {
   "cell_type": "markdown",
   "id": "8852206c-4602-47b4-89c9-fc9d5ee2b49a",
   "metadata": {},
   "source": [
    "- book_manager 컬럼을 book_man으로 바꿉니다."
   ]
  },
  {
   "cell_type": "code",
   "execution_count": 43,
   "id": "169093f9-875a-4c5a-8a45-d45b9898fc76",
   "metadata": {},
   "outputs": [
    {
     "data": {
      "text/plain": [
       "'변경된 행의 수: 0'"
      ]
     },
     "execution_count": 43,
     "metadata": {},
     "output_type": "execute_result"
    }
   ],
   "source": [
    "%%SQL\n",
    "\n",
    "ALTER TABLE book_stock\n",
    "RENAME COLUMN book_manager TO book_man"
   ]
  },
  {
   "cell_type": "code",
   "execution_count": 44,
   "id": "d4107000-313e-4639-a64e-337244ed6dce",
   "metadata": {},
   "outputs": [
    {
     "data": {
      "text/html": [
       "<div>\n",
       "<style scoped>\n",
       "    .dataframe tbody tr th:only-of-type {\n",
       "        vertical-align: middle;\n",
       "    }\n",
       "\n",
       "    .dataframe tbody tr th {\n",
       "        vertical-align: top;\n",
       "    }\n",
       "\n",
       "    .dataframe thead th {\n",
       "        text-align: right;\n",
       "    }\n",
       "</style>\n",
       "<table border=\"1\" class=\"dataframe\">\n",
       "  <thead>\n",
       "    <tr style=\"text-align: right;\">\n",
       "      <th></th>\n",
       "      <th>book_id</th>\n",
       "      <th>stock_seq</th>\n",
       "      <th>book_status</th>\n",
       "      <th>book_location</th>\n",
       "      <th>reg_date</th>\n",
       "      <th>book_man</th>\n",
       "    </tr>\n",
       "  </thead>\n",
       "  <tbody>\n",
       "    <tr>\n",
       "      <th>1</th>\n",
       "      <td>2924</td>\n",
       "      <td>1</td>\n",
       "      <td>1</td>\n",
       "      <td>1 도서관</td>\n",
       "      <td>2025-08-10 09:41:03</td>\n",
       "      <td>NULL</td>\n",
       "    </tr>\n",
       "    <tr>\n",
       "      <th>2</th>\n",
       "      <td>2924</td>\n",
       "      <td>2</td>\n",
       "      <td>1</td>\n",
       "      <td>2 도서관</td>\n",
       "      <td>2025-08-10 09:41:03</td>\n",
       "      <td>NULL</td>\n",
       "    </tr>\n",
       "    <tr>\n",
       "      <th>3</th>\n",
       "      <td>2231</td>\n",
       "      <td>1</td>\n",
       "      <td>1</td>\n",
       "      <td>3 도서관</td>\n",
       "      <td>2025-08-10 09:41:03</td>\n",
       "      <td>NULL</td>\n",
       "    </tr>\n",
       "  </tbody>\n",
       "</table>\n",
       "</div>"
      ],
      "text/plain": [
       "   book_id  stock_seq  book_status book_location            reg_date book_man\n",
       "1     2924          1            1         1 도서관 2025-08-10 09:41:03     NULL\n",
       "2     2924          2            1         2 도서관 2025-08-10 09:41:03     NULL\n",
       "3     2231          1            1         3 도서관 2025-08-10 09:41:03     NULL"
      ]
     },
     "execution_count": 44,
     "metadata": {},
     "output_type": "execute_result"
    }
   ],
   "source": [
    "%%SQL \n",
    "\n",
    "SELECT * FROM book_stock"
   ]
  },
  {
   "cell_type": "markdown",
   "id": "75852aaf-d00d-4fe2-b763-89aa46cea60a",
   "metadata": {},
   "source": [
    "- book_man 컬럼에 제약을 추가합니다."
   ]
  },
  {
   "cell_type": "code",
   "execution_count": 45,
   "id": "fd6647ae-5eb7-4029-9bd9-487cec626777",
   "metadata": {},
   "outputs": [
    {
     "data": {
      "text/plain": [
       "'변경된 행의 수: 0'"
      ]
     },
     "execution_count": 45,
     "metadata": {},
     "output_type": "execute_result"
    }
   ],
   "source": [
    "%%SQL\n",
    "\n",
    "ALTER TABLE book_stock\n",
    "ADD CONSTRAINT book_stock_book_man_unique UNIQUE(book_man)"
   ]
  },
  {
   "cell_type": "code",
   "execution_count": 46,
   "id": "e4df4213-31ef-4e43-ba74-91fdfaa934ca",
   "metadata": {},
   "outputs": [
    {
     "name": "stdout",
     "output_type": "stream",
     "text": [
      "(cx_Oracle.IntegrityError) ORA-00001: unique constraint (LIB.BOOK_STOCK_BOOK_MAN_UNIQUE) violated\n",
      "[SQL: UPDATE book_stock SET book_man = '강선구']\n",
      "(Background on this error at: https://sqlalche.me/e/20/gkpj)\n"
     ]
    }
   ],
   "source": [
    "%%SQL\n",
    "\n",
    "UPDATE book_stock SET book_man = '강선구';"
   ]
  },
  {
   "cell_type": "code",
   "execution_count": 47,
   "id": "277e6659-8583-44a6-b83b-a7b36f1748a6",
   "metadata": {},
   "outputs": [
    {
     "data": {
      "text/plain": [
       "'변경된 행의 수: 3'"
      ]
     },
     "execution_count": 47,
     "metadata": {},
     "output_type": "execute_result"
    }
   ],
   "source": [
    "%%SQL\n",
    "\n",
    "UPDATE book_stock SET book_man = '강선구' || to_char(ROWNUM)"
   ]
  },
  {
   "cell_type": "code",
   "execution_count": 48,
   "id": "814f3d39-c000-4758-bfc1-90c4bc0043d0",
   "metadata": {},
   "outputs": [
    {
     "data": {
      "text/html": [
       "<div>\n",
       "<style scoped>\n",
       "    .dataframe tbody tr th:only-of-type {\n",
       "        vertical-align: middle;\n",
       "    }\n",
       "\n",
       "    .dataframe tbody tr th {\n",
       "        vertical-align: top;\n",
       "    }\n",
       "\n",
       "    .dataframe thead th {\n",
       "        text-align: right;\n",
       "    }\n",
       "</style>\n",
       "<table border=\"1\" class=\"dataframe\">\n",
       "  <thead>\n",
       "    <tr style=\"text-align: right;\">\n",
       "      <th></th>\n",
       "      <th>book_id</th>\n",
       "      <th>stock_seq</th>\n",
       "      <th>book_status</th>\n",
       "      <th>book_location</th>\n",
       "      <th>reg_date</th>\n",
       "      <th>book_man</th>\n",
       "    </tr>\n",
       "  </thead>\n",
       "  <tbody>\n",
       "    <tr>\n",
       "      <th>1</th>\n",
       "      <td>2924</td>\n",
       "      <td>1</td>\n",
       "      <td>1</td>\n",
       "      <td>1 도서관</td>\n",
       "      <td>2025-08-10 09:41:03</td>\n",
       "      <td>강선구1</td>\n",
       "    </tr>\n",
       "    <tr>\n",
       "      <th>2</th>\n",
       "      <td>2924</td>\n",
       "      <td>2</td>\n",
       "      <td>1</td>\n",
       "      <td>2 도서관</td>\n",
       "      <td>2025-08-10 09:41:03</td>\n",
       "      <td>강선구2</td>\n",
       "    </tr>\n",
       "    <tr>\n",
       "      <th>3</th>\n",
       "      <td>2231</td>\n",
       "      <td>1</td>\n",
       "      <td>1</td>\n",
       "      <td>3 도서관</td>\n",
       "      <td>2025-08-10 09:41:03</td>\n",
       "      <td>강선구3</td>\n",
       "    </tr>\n",
       "  </tbody>\n",
       "</table>\n",
       "</div>"
      ],
      "text/plain": [
       "   book_id  stock_seq  book_status book_location            reg_date book_man\n",
       "1     2924          1            1         1 도서관 2025-08-10 09:41:03     강선구1\n",
       "2     2924          2            1         2 도서관 2025-08-10 09:41:03     강선구2\n",
       "3     2231          1            1         3 도서관 2025-08-10 09:41:03     강선구3"
      ]
     },
     "execution_count": 48,
     "metadata": {},
     "output_type": "execute_result"
    }
   ],
   "source": [
    "%%SQL\n",
    "\n",
    "SELECT * FROM book_stock"
   ]
  },
  {
   "cell_type": "markdown",
   "id": "441f7e9e-4f09-4899-9071-3b86f7d9e54b",
   "metadata": {},
   "source": [
    "- 제약을 제거합니다."
   ]
  },
  {
   "cell_type": "code",
   "execution_count": 49,
   "id": "f0b3fe5b-ab43-4bcd-8b3e-880ae5bb061d",
   "metadata": {},
   "outputs": [
    {
     "data": {
      "text/plain": [
       "'변경된 행의 수: 0'"
      ]
     },
     "execution_count": 49,
     "metadata": {},
     "output_type": "execute_result"
    }
   ],
   "source": [
    "%%SQL \n",
    "\n",
    "ALTER TABLE book_stock\n",
    "DROP CONSTRAINT book_stock_book_man_unique"
   ]
  },
  {
   "cell_type": "code",
   "execution_count": 50,
   "id": "7acfe209-b57d-4530-b43e-10d5ea066cc7",
   "metadata": {},
   "outputs": [
    {
     "data": {
      "text/plain": [
       "'변경된 행의 수: 3'"
      ]
     },
     "execution_count": 50,
     "metadata": {},
     "output_type": "execute_result"
    }
   ],
   "source": [
    "%%SQL\n",
    "\n",
    "UPDATE book_stock SET book_man = '강선구' "
   ]
  },
  {
   "cell_type": "code",
   "execution_count": 51,
   "id": "06f319ee-72a5-4254-89ef-6b35ecb156dd",
   "metadata": {},
   "outputs": [
    {
     "data": {
      "text/html": [
       "<div>\n",
       "<style scoped>\n",
       "    .dataframe tbody tr th:only-of-type {\n",
       "        vertical-align: middle;\n",
       "    }\n",
       "\n",
       "    .dataframe tbody tr th {\n",
       "        vertical-align: top;\n",
       "    }\n",
       "\n",
       "    .dataframe thead th {\n",
       "        text-align: right;\n",
       "    }\n",
       "</style>\n",
       "<table border=\"1\" class=\"dataframe\">\n",
       "  <thead>\n",
       "    <tr style=\"text-align: right;\">\n",
       "      <th></th>\n",
       "      <th>book_id</th>\n",
       "      <th>stock_seq</th>\n",
       "      <th>book_status</th>\n",
       "      <th>book_location</th>\n",
       "      <th>reg_date</th>\n",
       "      <th>book_man</th>\n",
       "    </tr>\n",
       "  </thead>\n",
       "  <tbody>\n",
       "    <tr>\n",
       "      <th>1</th>\n",
       "      <td>2924</td>\n",
       "      <td>1</td>\n",
       "      <td>1</td>\n",
       "      <td>1 도서관</td>\n",
       "      <td>2025-08-10 09:41:03</td>\n",
       "      <td>강선구</td>\n",
       "    </tr>\n",
       "    <tr>\n",
       "      <th>2</th>\n",
       "      <td>2924</td>\n",
       "      <td>2</td>\n",
       "      <td>1</td>\n",
       "      <td>2 도서관</td>\n",
       "      <td>2025-08-10 09:41:03</td>\n",
       "      <td>강선구</td>\n",
       "    </tr>\n",
       "    <tr>\n",
       "      <th>3</th>\n",
       "      <td>2231</td>\n",
       "      <td>1</td>\n",
       "      <td>1</td>\n",
       "      <td>3 도서관</td>\n",
       "      <td>2025-08-10 09:41:03</td>\n",
       "      <td>강선구</td>\n",
       "    </tr>\n",
       "  </tbody>\n",
       "</table>\n",
       "</div>"
      ],
      "text/plain": [
       "   book_id  stock_seq  book_status book_location            reg_date book_man\n",
       "1     2924          1            1         1 도서관 2025-08-10 09:41:03      강선구\n",
       "2     2924          2            1         2 도서관 2025-08-10 09:41:03      강선구\n",
       "3     2231          1            1         3 도서관 2025-08-10 09:41:03      강선구"
      ]
     },
     "execution_count": 51,
     "metadata": {},
     "output_type": "execute_result"
    }
   ],
   "source": [
    "%%SQL\n",
    "\n",
    "SELECT * FROM book_stock"
   ]
  },
  {
   "cell_type": "markdown",
   "id": "4988b0f0-aace-4f76-9ab3-5ba74476ee42",
   "metadata": {},
   "source": [
    "- 컬럼을 제거합니다."
   ]
  },
  {
   "cell_type": "code",
   "execution_count": 52,
   "id": "2c9f08ab-a8ac-4b2c-a041-263322c411a9",
   "metadata": {},
   "outputs": [
    {
     "data": {
      "text/plain": [
       "'변경된 행의 수: 0'"
      ]
     },
     "execution_count": 52,
     "metadata": {},
     "output_type": "execute_result"
    }
   ],
   "source": [
    "%%SQL\n",
    "\n",
    "ALTER TABLE book_stock\n",
    "DROP COLUMN book_man"
   ]
  },
  {
   "cell_type": "code",
   "execution_count": 53,
   "id": "9873f11b-8393-474a-a004-65f606a6e9d3",
   "metadata": {},
   "outputs": [
    {
     "data": {
      "text/html": [
       "<div>\n",
       "<style scoped>\n",
       "    .dataframe tbody tr th:only-of-type {\n",
       "        vertical-align: middle;\n",
       "    }\n",
       "\n",
       "    .dataframe tbody tr th {\n",
       "        vertical-align: top;\n",
       "    }\n",
       "\n",
       "    .dataframe thead th {\n",
       "        text-align: right;\n",
       "    }\n",
       "</style>\n",
       "<table border=\"1\" class=\"dataframe\">\n",
       "  <thead>\n",
       "    <tr style=\"text-align: right;\">\n",
       "      <th></th>\n",
       "      <th>book_id</th>\n",
       "      <th>stock_seq</th>\n",
       "      <th>book_status</th>\n",
       "      <th>book_location</th>\n",
       "      <th>reg_date</th>\n",
       "    </tr>\n",
       "  </thead>\n",
       "  <tbody>\n",
       "    <tr>\n",
       "      <th>1</th>\n",
       "      <td>2924</td>\n",
       "      <td>1</td>\n",
       "      <td>1</td>\n",
       "      <td>1 도서관</td>\n",
       "      <td>2025-08-10 09:41:03</td>\n",
       "    </tr>\n",
       "    <tr>\n",
       "      <th>2</th>\n",
       "      <td>2924</td>\n",
       "      <td>2</td>\n",
       "      <td>1</td>\n",
       "      <td>2 도서관</td>\n",
       "      <td>2025-08-10 09:41:03</td>\n",
       "    </tr>\n",
       "    <tr>\n",
       "      <th>3</th>\n",
       "      <td>2231</td>\n",
       "      <td>1</td>\n",
       "      <td>1</td>\n",
       "      <td>3 도서관</td>\n",
       "      <td>2025-08-10 09:41:03</td>\n",
       "    </tr>\n",
       "  </tbody>\n",
       "</table>\n",
       "</div>"
      ],
      "text/plain": [
       "   book_id  stock_seq  book_status book_location            reg_date\n",
       "1     2924          1            1         1 도서관 2025-08-10 09:41:03\n",
       "2     2924          2            1         2 도서관 2025-08-10 09:41:03\n",
       "3     2231          1            1         3 도서관 2025-08-10 09:41:03"
      ]
     },
     "execution_count": 53,
     "metadata": {},
     "output_type": "execute_result"
    }
   ],
   "source": [
    "%%SQL\n",
    "\n",
    "SELECT * FROM book_stock"
   ]
  },
  {
   "cell_type": "markdown",
   "id": "3e57f14f-7124-42d2-ab4d-b60a03b74fd0",
   "metadata": {},
   "source": [
    "## 기타 DDL\n",
    "\n",
    "|명령|설명|\n",
    "|----|----|\n",
    "|ALTER TABLE ~ RENAME TO ~|ALTER TABLE 기존 테이블명 RENAME TO 새로운 테이블명;<br/>sp_rename ‘기존 테이블명’, ‘새로운 테이블명‘;|\n",
    "|DROP TABLE|DROP TABLE 테이블명 [CASCADE CONSTRAINT];|\n",
    "|TRUNCATE TABLE|TRUNCATE TABLE 테이블명; <br/> 테이블은 사라지지 않고, 테이블 내용이 초기화됩니다. <br/>Transaction에 영향을 받지 않습니다.|\n"
   ]
  },
  {
   "cell_type": "markdown",
   "id": "1b58a02c-0c8b-4e1e-8638-54062b179ede",
   "metadata": {},
   "source": [
    "**[예제 5]** ALTER TABLE ~ RENAME TO, DROP TABLE, TRUNCATE TABLE을 알아봅니다."
   ]
  },
  {
   "cell_type": "code",
   "execution_count": 54,
   "id": "168d50f4-575c-4e99-bcf3-50ac71a21127",
   "metadata": {},
   "outputs": [
    {
     "data": {
      "text/plain": [
       "'변경된 행의 수: 0'"
      ]
     },
     "execution_count": 54,
     "metadata": {},
     "output_type": "execute_result"
    }
   ],
   "source": [
    "%%SQL\n",
    "\n",
    "ALTER TABLE book_stock RENAME TO book_stock_info"
   ]
  },
  {
   "cell_type": "code",
   "execution_count": 55,
   "id": "67fa17e7-ddff-48a6-9650-11ce672a4eaf",
   "metadata": {},
   "outputs": [
    {
     "data": {
      "text/html": [
       "<div>\n",
       "<style scoped>\n",
       "    .dataframe tbody tr th:only-of-type {\n",
       "        vertical-align: middle;\n",
       "    }\n",
       "\n",
       "    .dataframe tbody tr th {\n",
       "        vertical-align: top;\n",
       "    }\n",
       "\n",
       "    .dataframe thead th {\n",
       "        text-align: right;\n",
       "    }\n",
       "</style>\n",
       "<table border=\"1\" class=\"dataframe\">\n",
       "  <thead>\n",
       "    <tr style=\"text-align: right;\">\n",
       "      <th></th>\n",
       "      <th>book_id</th>\n",
       "      <th>stock_seq</th>\n",
       "      <th>book_status</th>\n",
       "      <th>book_location</th>\n",
       "      <th>reg_date</th>\n",
       "    </tr>\n",
       "  </thead>\n",
       "  <tbody>\n",
       "    <tr>\n",
       "      <th>1</th>\n",
       "      <td>2924</td>\n",
       "      <td>1</td>\n",
       "      <td>1</td>\n",
       "      <td>1 도서관</td>\n",
       "      <td>2025-08-10 09:41:03</td>\n",
       "    </tr>\n",
       "    <tr>\n",
       "      <th>2</th>\n",
       "      <td>2924</td>\n",
       "      <td>2</td>\n",
       "      <td>1</td>\n",
       "      <td>2 도서관</td>\n",
       "      <td>2025-08-10 09:41:03</td>\n",
       "    </tr>\n",
       "    <tr>\n",
       "      <th>3</th>\n",
       "      <td>2231</td>\n",
       "      <td>1</td>\n",
       "      <td>1</td>\n",
       "      <td>3 도서관</td>\n",
       "      <td>2025-08-10 09:41:03</td>\n",
       "    </tr>\n",
       "  </tbody>\n",
       "</table>\n",
       "</div>"
      ],
      "text/plain": [
       "   book_id  stock_seq  book_status book_location            reg_date\n",
       "1     2924          1            1         1 도서관 2025-08-10 09:41:03\n",
       "2     2924          2            1         2 도서관 2025-08-10 09:41:03\n",
       "3     2231          1            1         3 도서관 2025-08-10 09:41:03"
      ]
     },
     "execution_count": 55,
     "metadata": {},
     "output_type": "execute_result"
    }
   ],
   "source": [
    "%%SQL\n",
    "\n",
    "SELECT * FROM book_stock_info"
   ]
  },
  {
   "cell_type": "code",
   "execution_count": 56,
   "id": "08dcb732-7a25-4415-9580-2d427e461a35",
   "metadata": {},
   "outputs": [
    {
     "data": {
      "text/plain": [
       "'변경된 행의 수: 0'"
      ]
     },
     "execution_count": 56,
     "metadata": {},
     "output_type": "execute_result"
    }
   ],
   "source": [
    "%%SQL\n",
    "\n",
    "TRUNCATE TABLE book_stock_info"
   ]
  },
  {
   "cell_type": "code",
   "execution_count": 57,
   "id": "78c8b804-e820-486b-9a15-c99a52398842",
   "metadata": {},
   "outputs": [
    {
     "data": {
      "text/plain": [
       "'변경된 행의 수: 0'"
      ]
     },
     "execution_count": 57,
     "metadata": {},
     "output_type": "execute_result"
    }
   ],
   "source": [
    "%%SQL\n",
    "\n",
    "DROP TABLE book_stock_info"
   ]
  },
  {
   "attachments": {},
   "cell_type": "markdown",
   "id": "a9214ca4-6c0c-4c06-b868-372aaa4f780e",
   "metadata": {},
   "source": [
    "# DCL\n",
    "\n",
    "|기능|명령|\n",
    "|----|----|\n",
    "|권한 부여|GRANT 권한 TO {사용자ID|ROLE};|\n",
    "|권한 회수|REVOKE 권한 FROM {사용자ID|ROLE};|\n",
    "|역할 Role 생성|CREATE ROLE 역할명;|\n",
    "|역할(Role) 부여|GRANT 역할명 TO 사용자ID;|\n",
    "|역할(Role) 회수|REVOKE 역할명 FROM 사용자ID;|\n"
   ]
  },
  {
   "cell_type": "markdown",
   "id": "6ade4579-f466-495d-815b-9cba100a0eab",
   "metadata": {},
   "source": [
    "- DBA 계정으로 접근을 하고 사용자를 추가 합니다."
   ]
  },
  {
   "cell_type": "code",
   "execution_count": 58,
   "id": "3755ef8e-1d0d-4951-a97a-a326062641a5",
   "metadata": {},
   "outputs": [],
   "source": [
    "DATABASE_URL = \"oracle+cx_oracle://sys:multisqld@{}:1521/xe?mode=SYSDBA\".format(domain_name)\n",
    "engine = create_engine(DATABASE_URL)"
   ]
  },
  {
   "cell_type": "code",
   "execution_count": 59,
   "id": "d8387f68-88f4-47d0-a472-51dac27b890f",
   "metadata": {},
   "outputs": [
    {
     "data": {
      "text/plain": [
       "'변경된 행의 수: 0'"
      ]
     },
     "execution_count": 59,
     "metadata": {},
     "output_type": "execute_result"
    }
   ],
   "source": [
    "%%SQL\n",
    "ALTER SESSION SET CONTAINER = XEPDB1;"
   ]
  },
  {
   "cell_type": "markdown",
   "id": "58ebe7f5-45f1-40e3-bd95-8fa3c2689c90",
   "metadata": {},
   "source": [
    "- test / test123 인 사용자를 추가합니다."
   ]
  },
  {
   "cell_type": "code",
   "execution_count": 60,
   "id": "0db3c70c-5e62-4341-9c53-0cf63185a576",
   "metadata": {},
   "outputs": [
    {
     "data": {
      "text/plain": [
       "'변경된 행의 수: 0'"
      ]
     },
     "execution_count": 60,
     "metadata": {},
     "output_type": "execute_result"
    }
   ],
   "source": [
    "%%SQL\n",
    "\n",
    "CREATE USER TEST IDENTIFIED BY test123;"
   ]
  },
  {
   "cell_type": "code",
   "execution_count": 61,
   "id": "6ccc756e-40fa-4e5e-a086-a26bb4d749e5",
   "metadata": {},
   "outputs": [
    {
     "data": {
      "text/plain": [
       "'변경된 행의 수: 0'"
      ]
     },
     "execution_count": 61,
     "metadata": {},
     "output_type": "execute_result"
    }
   ],
   "source": [
    "%%SQL\n",
    "\n",
    "ALTER USER TEST DEFAULT TABLESPACE LIB_SPACE"
   ]
  },
  {
   "cell_type": "markdown",
   "id": "866398b7-a9a1-4acf-91be-13b0d4a49f84",
   "metadata": {},
   "source": [
    "- 추가한 test / test123으로 접근합니다."
   ]
  },
  {
   "cell_type": "code",
   "execution_count": 62,
   "id": "ea91be8e-ef8d-4b22-ae7f-ce62c33ee12f",
   "metadata": {},
   "outputs": [],
   "source": [
    "DATABASE_URL = \"oracle+cx_oracle://test:test123@{}:1521/?service_name=XEPDB1\".format(domain_name)\n",
    "engine = create_engine(DATABASE_URL)"
   ]
  },
  {
   "cell_type": "code",
   "execution_count": 63,
   "id": "39ed034e-0c57-49c3-9f37-e49de0cf848c",
   "metadata": {},
   "outputs": [
    {
     "name": "stdout",
     "output_type": "stream",
     "text": [
      "ORA-01045: user TEST lacks CREATE SESSION privilege; logon denied None\n"
     ]
    }
   ],
   "source": [
    "%%SQL\n",
    "\n",
    "SELECT * FROM book1"
   ]
  },
  {
   "cell_type": "markdown",
   "id": "6906e9f7-cca6-456a-8001-d7cc9b5d57cd",
   "metadata": {},
   "source": [
    "SESSION을 만들 권한이 없어 logon 이 거부됩니다."
   ]
  },
  {
   "cell_type": "code",
   "execution_count": 64,
   "id": "ae8a3031-b4b2-4357-8d2a-97ada2f2970e",
   "metadata": {},
   "outputs": [],
   "source": [
    "DATABASE_URL = \"oracle+cx_oracle://sys:multisqld@{}:1521/xe?mode=SYSDBA\".format(domain_name)\n",
    "engine = create_engine(DATABASE_URL)"
   ]
  },
  {
   "cell_type": "code",
   "execution_count": 65,
   "id": "a4f46318-476b-4290-b77a-9f3dc3a8d197",
   "metadata": {},
   "outputs": [
    {
     "data": {
      "text/plain": [
       "'변경된 행의 수: 0'"
      ]
     },
     "execution_count": 65,
     "metadata": {},
     "output_type": "execute_result"
    }
   ],
   "source": [
    "%%SQL\n",
    "ALTER SESSION SET CONTAINER = XEPDB1;"
   ]
  },
  {
   "cell_type": "markdown",
   "id": "07b2bf6c-7678-4a81-911d-fb24669e2527",
   "metadata": {},
   "source": [
    "- 접근 권한을 부여합니다."
   ]
  },
  {
   "cell_type": "code",
   "execution_count": 66,
   "id": "e5fc662f-913f-4493-8d1e-d5abbe437484",
   "metadata": {},
   "outputs": [
    {
     "data": {
      "text/plain": [
       "'변경된 행의 수: 0'"
      ]
     },
     "execution_count": 66,
     "metadata": {},
     "output_type": "execute_result"
    }
   ],
   "source": [
    "%%SQL \n",
    "\n",
    "GRANT CONNECT TO TEST"
   ]
  },
  {
   "cell_type": "markdown",
   "id": "c0238f23-da0a-4d82-855a-7f5a057e95dd",
   "metadata": {},
   "source": [
    "- SESSION 생성 권한들 부여합니다."
   ]
  },
  {
   "cell_type": "code",
   "execution_count": 67,
   "id": "ba493b78-9f28-4295-bc52-0421870691c2",
   "metadata": {},
   "outputs": [
    {
     "data": {
      "text/plain": [
       "'변경된 행의 수: 0'"
      ]
     },
     "execution_count": 67,
     "metadata": {},
     "output_type": "execute_result"
    }
   ],
   "source": [
    "%%SQL\n",
    "\n",
    "GRANT CREATE SESSION TO TEST"
   ]
  },
  {
   "cell_type": "markdown",
   "id": "cc797dd2-b309-47a5-b61c-b495fdaa2bbf",
   "metadata": {},
   "source": [
    "- 테이블 공간에 대한 무한 접근 권한을 부여합니다."
   ]
  },
  {
   "cell_type": "code",
   "execution_count": 68,
   "id": "82fceb09-c747-49da-8e5c-1c84eddac9a3",
   "metadata": {},
   "outputs": [
    {
     "data": {
      "text/plain": [
       "'변경된 행의 수: 0'"
      ]
     },
     "execution_count": 68,
     "metadata": {},
     "output_type": "execute_result"
    }
   ],
   "source": [
    "%%SQL\n",
    "\n",
    "GRANT UNLIMITED TABLESPACE TO TEST"
   ]
  },
  {
   "cell_type": "code",
   "execution_count": 69,
   "id": "94d5764d-0635-4e58-b319-03f0de828859",
   "metadata": {},
   "outputs": [],
   "source": [
    "DATABASE_URL = \"oracle+cx_oracle://test:test123@{}:1521/?service_name=XEPDB1\".format(domain_name)\n",
    "engine = create_engine(DATABASE_URL)"
   ]
  },
  {
   "cell_type": "code",
   "execution_count": 70,
   "id": "09b9ebd2-413f-4004-9062-7b0799929e16",
   "metadata": {},
   "outputs": [
    {
     "data": {
      "text/html": [
       "<div>\n",
       "<style scoped>\n",
       "    .dataframe tbody tr th:only-of-type {\n",
       "        vertical-align: middle;\n",
       "    }\n",
       "\n",
       "    .dataframe tbody tr th {\n",
       "        vertical-align: top;\n",
       "    }\n",
       "\n",
       "    .dataframe thead th {\n",
       "        text-align: right;\n",
       "    }\n",
       "</style>\n",
       "<table border=\"1\" class=\"dataframe\">\n",
       "  <thead>\n",
       "    <tr style=\"text-align: right;\">\n",
       "      <th></th>\n",
       "      <th>tname</th>\n",
       "      <th>tabtype</th>\n",
       "      <th>clusterid</th>\n",
       "    </tr>\n",
       "  </thead>\n",
       "  <tbody>\n",
       "  </tbody>\n",
       "</table>\n",
       "</div>"
      ],
      "text/plain": [
       "Empty DataFrame\n",
       "Columns: [tname, tabtype, clusterid]\n",
       "Index: []"
      ]
     },
     "execution_count": 70,
     "metadata": {},
     "output_type": "execute_result"
    }
   ],
   "source": [
    "%%SQL\n",
    "\n",
    "SELECT * FROM tab"
   ]
  },
  {
   "cell_type": "markdown",
   "id": "885bee2e-7b58-4710-ade2-eefdeded0f36",
   "metadata": {},
   "source": [
    "권한을 받으면 정상 접근이 됩니다."
   ]
  },
  {
   "cell_type": "code",
   "execution_count": 71,
   "id": "1f89fc64-12a7-4a91-aaa7-37d6810531e1",
   "metadata": {},
   "outputs": [],
   "source": [
    "DATABASE_URL = \"oracle+cx_oracle://sys:multisqld@{}:1521/xe?mode=SYSDBA\".format(domain_name)\n",
    "engine = create_engine(DATABASE_URL)"
   ]
  },
  {
   "cell_type": "code",
   "execution_count": 72,
   "id": "46d0bd49-171f-42b3-b3e5-1b86e5ec11d7",
   "metadata": {},
   "outputs": [
    {
     "data": {
      "text/plain": [
       "'변경된 행의 수: 0'"
      ]
     },
     "execution_count": 72,
     "metadata": {},
     "output_type": "execute_result"
    }
   ],
   "source": [
    "%%SQL\n",
    "ALTER SESSION SET CONTAINER = XEPDB1;"
   ]
  },
  {
   "cell_type": "markdown",
   "id": "aae26403-f288-4d20-b2cb-725ecd1a5194",
   "metadata": {},
   "source": [
    "- TEST 유저에 lib.book1에 SELECT 권한을 부여합니다."
   ]
  },
  {
   "cell_type": "code",
   "execution_count": 73,
   "id": "eb41b69d-9ffe-44ee-b4f6-1adc89ea5d2d",
   "metadata": {},
   "outputs": [
    {
     "data": {
      "text/plain": [
       "'변경된 행의 수: 0'"
      ]
     },
     "execution_count": 73,
     "metadata": {},
     "output_type": "execute_result"
    }
   ],
   "source": [
    "%%SQL\n",
    "\n",
    "GRANT SELECT ON lib.book1 TO TEST;"
   ]
  },
  {
   "cell_type": "code",
   "execution_count": 74,
   "id": "2dd3a3bc-e644-4de4-bb48-8697b2fc0dac",
   "metadata": {},
   "outputs": [],
   "source": [
    "DATABASE_URL = \"oracle+cx_oracle://test:test123@{}:1521/?service_name=XEPDB1\".format(domain_name)\n",
    "engine = create_engine(DATABASE_URL)"
   ]
  },
  {
   "cell_type": "markdown",
   "id": "e2c1a8ca-fef1-48db-a791-045242f13fc1",
   "metadata": {},
   "source": [
    "- book1의 내용을 조회합니다."
   ]
  },
  {
   "cell_type": "code",
   "execution_count": 75,
   "id": "c05e8c9b-4bec-4877-a0dc-3b442f30a650",
   "metadata": {},
   "outputs": [
    {
     "data": {
      "text/html": [
       "<div>\n",
       "<style scoped>\n",
       "    .dataframe tbody tr th:only-of-type {\n",
       "        vertical-align: middle;\n",
       "    }\n",
       "\n",
       "    .dataframe tbody tr th {\n",
       "        vertical-align: top;\n",
       "    }\n",
       "\n",
       "    .dataframe thead th {\n",
       "        text-align: right;\n",
       "    }\n",
       "</style>\n",
       "<table border=\"1\" class=\"dataframe\">\n",
       "  <thead>\n",
       "    <tr style=\"text-align: right;\">\n",
       "      <th></th>\n",
       "      <th>book_id</th>\n",
       "      <th>book_title</th>\n",
       "      <th>book_categ_id</th>\n",
       "      <th>publisher</th>\n",
       "      <th>pub_date</th>\n",
       "    </tr>\n",
       "  </thead>\n",
       "  <tbody>\n",
       "    <tr>\n",
       "      <th>1</th>\n",
       "      <td>2219</td>\n",
       "      <td>사피엔스</td>\n",
       "      <td>1062</td>\n",
       "      <td>김영사</td>\n",
       "      <td>2015-11-01</td>\n",
       "    </tr>\n",
       "    <tr>\n",
       "      <th>2</th>\n",
       "      <td>1097</td>\n",
       "      <td>문학이란 무엇인가</td>\n",
       "      <td>509</td>\n",
       "      <td>민음사</td>\n",
       "      <td>1998-09-01</td>\n",
       "    </tr>\n",
       "    <tr>\n",
       "      <th>3</th>\n",
       "      <td>1061</td>\n",
       "      <td>양철북 2</td>\n",
       "      <td>489</td>\n",
       "      <td>민음사</td>\n",
       "      <td>2000-03-01</td>\n",
       "    </tr>\n",
       "    <tr>\n",
       "      <th>4</th>\n",
       "      <td>3270</td>\n",
       "      <td>뿌리깊은 초등국어 독해력 어휘편 3단계 (초등3,4학년)</td>\n",
       "      <td>1550</td>\n",
       "      <td>마더텅</td>\n",
       "      <td>2019-12-01</td>\n",
       "    </tr>\n",
       "    <tr>\n",
       "      <th>5</th>\n",
       "      <td>3233</td>\n",
       "      <td>뿌리깊은 초등국어 독해력 1단계 (초등1,2학년)</td>\n",
       "      <td>1535</td>\n",
       "      <td>마더텅</td>\n",
       "      <td>2018-03-01</td>\n",
       "    </tr>\n",
       "    <tr>\n",
       "      <th>6</th>\n",
       "      <td>2497</td>\n",
       "      <td>생명이란 무엇인가</td>\n",
       "      <td>1196</td>\n",
       "      <td>까치(까치글방)</td>\n",
       "      <td>2021-01-01</td>\n",
       "    </tr>\n",
       "    <tr>\n",
       "      <th>7</th>\n",
       "      <td>1137</td>\n",
       "      <td>잃어버린 아이 이야기</td>\n",
       "      <td>534</td>\n",
       "      <td>한길사</td>\n",
       "      <td>2017-12-01</td>\n",
       "    </tr>\n",
       "    <tr>\n",
       "      <th>8</th>\n",
       "      <td>1059</td>\n",
       "      <td>데미안</td>\n",
       "      <td>489</td>\n",
       "      <td>민음사</td>\n",
       "      <td>2000-12-01</td>\n",
       "    </tr>\n",
       "    <tr>\n",
       "      <th>9</th>\n",
       "      <td>3345</td>\n",
       "      <td>초등영어 받아쓰기·듣기 10회 모의고사 초등 6학년 1</td>\n",
       "      <td>1568</td>\n",
       "      <td>마더텅</td>\n",
       "      <td>2019-04-01</td>\n",
       "    </tr>\n",
       "    <tr>\n",
       "      <th>10</th>\n",
       "      <td>1092</td>\n",
       "      <td>동주와 빈센트</td>\n",
       "      <td>503</td>\n",
       "      <td>저녁달고양이</td>\n",
       "      <td>2019-09-01</td>\n",
       "    </tr>\n",
       "  </tbody>\n",
       "</table>\n",
       "</div>"
      ],
      "text/plain": [
       "    book_id                       book_title  book_categ_id publisher  \\\n",
       "1      2219                             사피엔스           1062       김영사   \n",
       "2      1097                        문학이란 무엇인가            509       민음사   \n",
       "3      1061                            양철북 2            489       민음사   \n",
       "4      3270  뿌리깊은 초등국어 독해력 어휘편 3단계 (초등3,4학년)           1550       마더텅   \n",
       "5      3233      뿌리깊은 초등국어 독해력 1단계 (초등1,2학년)           1535       마더텅   \n",
       "6      2497                        생명이란 무엇인가           1196  까치(까치글방)   \n",
       "7      1137                      잃어버린 아이 이야기            534       한길사   \n",
       "8      1059                              데미안            489       민음사   \n",
       "9      3345   초등영어 받아쓰기·듣기 10회 모의고사 초등 6학년 1           1568       마더텅   \n",
       "10     1092                          동주와 빈센트            503    저녁달고양이   \n",
       "\n",
       "     pub_date  \n",
       "1  2015-11-01  \n",
       "2  1998-09-01  \n",
       "3  2000-03-01  \n",
       "4  2019-12-01  \n",
       "5  2018-03-01  \n",
       "6  2021-01-01  \n",
       "7  2017-12-01  \n",
       "8  2000-12-01  \n",
       "9  2019-04-01  \n",
       "10 2019-09-01  "
      ]
     },
     "execution_count": 75,
     "metadata": {},
     "output_type": "execute_result"
    }
   ],
   "source": [
    "%%SQL\n",
    "\n",
    "SELECT * FROM lib.book1"
   ]
  },
  {
   "cell_type": "code",
   "execution_count": 76,
   "id": "9f2cf582-677e-4e00-a636-51caeb5423c3",
   "metadata": {},
   "outputs": [],
   "source": [
    "DATABASE_URL = \"oracle+cx_oracle://sys:multisqld@{}:1521/xe?mode=SYSDBA\".format(domain_name)\n",
    "engine = create_engine(DATABASE_URL)"
   ]
  },
  {
   "cell_type": "code",
   "execution_count": 77,
   "id": "31646980-0bbc-4c2d-9104-5ead7462848c",
   "metadata": {},
   "outputs": [
    {
     "data": {
      "text/plain": [
       "'변경된 행의 수: 0'"
      ]
     },
     "execution_count": 77,
     "metadata": {},
     "output_type": "execute_result"
    }
   ],
   "source": [
    "%%SQL\n",
    "ALTER SESSION SET CONTAINER = XEPDB1;"
   ]
  },
  {
   "cell_type": "markdown",
   "id": "8e2861d2-5402-426f-ac8b-19c78ab84e8e",
   "metadata": {},
   "source": [
    "- TEST에게서 lib.book1에 대한 SELECT 권한을 회수합니다. "
   ]
  },
  {
   "cell_type": "code",
   "execution_count": 78,
   "id": "753a14bb-6b09-4538-aaaf-06062cfe5b0f",
   "metadata": {},
   "outputs": [
    {
     "data": {
      "text/plain": [
       "'변경된 행의 수: 0'"
      ]
     },
     "execution_count": 78,
     "metadata": {},
     "output_type": "execute_result"
    }
   ],
   "source": [
    "%%SQL\n",
    "\n",
    "REVOKE SELECT ON lib.book1 FROM TEST;"
   ]
  },
  {
   "cell_type": "code",
   "execution_count": 79,
   "id": "6e4802ae-0e5d-4389-8467-bbf604cbc829",
   "metadata": {},
   "outputs": [],
   "source": [
    "DATABASE_URL = \"oracle+cx_oracle://test:test123@{}:1521/?service_name=XEPDB1\".format(domain_name)\n",
    "engine = create_engine(DATABASE_URL)"
   ]
  },
  {
   "cell_type": "code",
   "execution_count": 80,
   "id": "1c0eb2d6-1d67-41d5-b2d6-f089226cccc2",
   "metadata": {},
   "outputs": [
    {
     "name": "stdout",
     "output_type": "stream",
     "text": [
      "ORA-00942: table or view does not exist None\n"
     ]
    }
   ],
   "source": [
    "%%SQL\n",
    "\n",
    "SELECT * FROM lib.book1"
   ]
  },
  {
   "cell_type": "code",
   "execution_count": 81,
   "id": "f4c372b1-9d2e-447f-a35e-3be8ce07ab42",
   "metadata": {},
   "outputs": [],
   "source": [
    "DATABASE_URL = \"oracle+cx_oracle://sys:multisqld@{}:1521/xe?mode=SYSDBA\".format(domain_name)\n",
    "engine = create_engine(DATABASE_URL)"
   ]
  },
  {
   "cell_type": "code",
   "execution_count": 83,
   "id": "d96feb69-5e51-44d1-aa7f-d556d82fa903",
   "metadata": {},
   "outputs": [
    {
     "data": {
      "text/plain": [
       "'변경된 행의 수: 0'"
      ]
     },
     "execution_count": 83,
     "metadata": {},
     "output_type": "execute_result"
    }
   ],
   "source": [
    "%%SQL\n",
    "ALTER SESSION SET CONTAINER = XEPDB1;"
   ]
  },
  {
   "cell_type": "code",
   "execution_count": 93,
   "id": "0aefa914-5e80-48b2-8da0-e608fd382228",
   "metadata": {},
   "outputs": [
    {
     "data": {
      "text/html": [
       "<div>\n",
       "<style scoped>\n",
       "    .dataframe tbody tr th:only-of-type {\n",
       "        vertical-align: middle;\n",
       "    }\n",
       "\n",
       "    .dataframe tbody tr th {\n",
       "        vertical-align: top;\n",
       "    }\n",
       "\n",
       "    .dataframe thead th {\n",
       "        text-align: right;\n",
       "    }\n",
       "</style>\n",
       "<table border=\"1\" class=\"dataframe\">\n",
       "  <thead>\n",
       "    <tr style=\"text-align: right;\">\n",
       "      <th></th>\n",
       "      <th>sid</th>\n",
       "      <th>SERIAL#</th>\n",
       "      <th>username</th>\n",
       "      <th>status</th>\n",
       "      <th>osuser</th>\n",
       "      <th>machine</th>\n",
       "    </tr>\n",
       "  </thead>\n",
       "  <tbody>\n",
       "  </tbody>\n",
       "</table>\n",
       "</div>"
      ],
      "text/plain": [
       "Empty DataFrame\n",
       "Columns: [sid, SERIAL#, username, status, osuser, machine]\n",
       "Index: []"
      ]
     },
     "execution_count": 93,
     "metadata": {},
     "output_type": "execute_result"
    }
   ],
   "source": [
    "%%SQL\n",
    "SELECT s.sid, s.serial#, s.username, s.status, s.osuser, s.machine\n",
    "FROM v$session s\n",
    "WHERE s.username = 'TEST'"
   ]
  },
  {
   "cell_type": "code",
   "execution_count": 91,
   "id": "cea282d8-dd58-41d9-8c22-ff1b1b7bfd71",
   "metadata": {},
   "outputs": [
    {
     "data": {
      "text/plain": [
       "'변경된 행의 수: 0'"
      ]
     },
     "execution_count": 91,
     "metadata": {},
     "output_type": "execute_result"
    }
   ],
   "source": [
    "\"\"\"\n",
    "%%SQL\n",
    "\n",
    "ALTER SYSTEM KILL SESSION '282,60825' IMMEDIATE\n",
    "\"\"\""
   ]
  },
  {
   "cell_type": "code",
   "execution_count": 92,
   "id": "744c23b8-0e68-45ce-97cb-bbc4c8543bea",
   "metadata": {},
   "outputs": [
    {
     "data": {
      "text/plain": [
       "'변경된 행의 수: 0'"
      ]
     },
     "execution_count": 92,
     "metadata": {},
     "output_type": "execute_result"
    }
   ],
   "source": [
    "%%SQL\n",
    "\n",
    "DROP USER test"
   ]
  },
  {
   "cell_type": "code",
   "execution_count": null,
   "id": "0bc476c4-b8a9-4457-856f-4eee2b19ca5f",
   "metadata": {},
   "outputs": [],
   "source": []
  }
 ],
 "metadata": {
  "kernelspec": {
   "display_name": "Python 3 (ipykernel)",
   "language": "python",
   "name": "python3"
  },
  "language_info": {
   "codemirror_mode": {
    "name": "ipython",
    "version": 3
   },
   "file_extension": ".py",
   "mimetype": "text/x-python",
   "name": "python",
   "nbconvert_exporter": "python",
   "pygments_lexer": "ipython3",
   "version": "3.12.9"
  }
 },
 "nbformat": 4,
 "nbformat_minor": 5
}
